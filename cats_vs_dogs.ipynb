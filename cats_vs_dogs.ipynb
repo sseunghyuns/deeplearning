{
  "nbformat": 4,
  "nbformat_minor": 0,
  "metadata": {
    "colab": {
      "name": "cats_vs_dogs.ipynb",
      "provenance": [],
      "authorship_tag": "ABX9TyPe6qWXAnaaNuf87RQ76u/x",
      "include_colab_link": true
    },
    "kernelspec": {
      "name": "python3",
      "display_name": "Python 3"
    },
    "accelerator": "GPU",
    "widgets": {
      "application/vnd.jupyter.widget-state+json": {
        "824fd809a26c44bda3938ffb1efd2f01": {
          "model_module": "@jupyter-widgets/controls",
          "model_name": "HBoxModel",
          "state": {
            "_view_name": "HBoxView",
            "_dom_classes": [],
            "_model_name": "HBoxModel",
            "_view_module": "@jupyter-widgets/controls",
            "_model_module_version": "1.5.0",
            "_view_count": null,
            "_view_module_version": "1.5.0",
            "box_style": "",
            "layout": "IPY_MODEL_7e3432e7765c4937a1e07f783e235e86",
            "_model_module": "@jupyter-widgets/controls",
            "children": [
              "IPY_MODEL_5bf7155645cc485f8dc7faa8da7e2a85",
              "IPY_MODEL_c6abc7f2baee4ce1bea6df2796830f42"
            ]
          }
        },
        "7e3432e7765c4937a1e07f783e235e86": {
          "model_module": "@jupyter-widgets/base",
          "model_name": "LayoutModel",
          "state": {
            "_view_name": "LayoutView",
            "grid_template_rows": null,
            "right": null,
            "justify_content": null,
            "_view_module": "@jupyter-widgets/base",
            "overflow": null,
            "_model_module_version": "1.2.0",
            "_view_count": null,
            "flex_flow": null,
            "width": null,
            "min_width": null,
            "border": null,
            "align_items": null,
            "bottom": null,
            "_model_module": "@jupyter-widgets/base",
            "top": null,
            "grid_column": null,
            "overflow_y": null,
            "overflow_x": null,
            "grid_auto_flow": null,
            "grid_area": null,
            "grid_template_columns": null,
            "flex": null,
            "_model_name": "LayoutModel",
            "justify_items": null,
            "grid_row": null,
            "max_height": null,
            "align_content": null,
            "visibility": null,
            "align_self": null,
            "height": null,
            "min_height": null,
            "padding": null,
            "grid_auto_rows": null,
            "grid_gap": null,
            "max_width": null,
            "order": null,
            "_view_module_version": "1.2.0",
            "grid_template_areas": null,
            "object_position": null,
            "object_fit": null,
            "grid_auto_columns": null,
            "margin": null,
            "display": null,
            "left": null
          }
        },
        "5bf7155645cc485f8dc7faa8da7e2a85": {
          "model_module": "@jupyter-widgets/controls",
          "model_name": "FloatProgressModel",
          "state": {
            "_view_name": "ProgressView",
            "style": "IPY_MODEL_eea58a1cf67d424c964e66cb9c5ccddc",
            "_dom_classes": [],
            "description": "Dl Completed...: 100%",
            "_model_name": "FloatProgressModel",
            "bar_style": "success",
            "max": 1,
            "_view_module": "@jupyter-widgets/controls",
            "_model_module_version": "1.5.0",
            "value": 1,
            "_view_count": null,
            "_view_module_version": "1.5.0",
            "orientation": "horizontal",
            "min": 0,
            "description_tooltip": null,
            "_model_module": "@jupyter-widgets/controls",
            "layout": "IPY_MODEL_8034bd1552034bae8f0a7c80d2ad7907"
          }
        },
        "c6abc7f2baee4ce1bea6df2796830f42": {
          "model_module": "@jupyter-widgets/controls",
          "model_name": "HTMLModel",
          "state": {
            "_view_name": "HTMLView",
            "style": "IPY_MODEL_58f4ac0586d4441ca3a747cd22a109b6",
            "_dom_classes": [],
            "description": "",
            "_model_name": "HTMLModel",
            "placeholder": "​",
            "_view_module": "@jupyter-widgets/controls",
            "_model_module_version": "1.5.0",
            "value": " 1/1 [00:09&lt;00:00,  9.78s/ url]",
            "_view_count": null,
            "_view_module_version": "1.5.0",
            "description_tooltip": null,
            "_model_module": "@jupyter-widgets/controls",
            "layout": "IPY_MODEL_a0ddb5a3c8ac4503a41bf829eac4d30e"
          }
        },
        "eea58a1cf67d424c964e66cb9c5ccddc": {
          "model_module": "@jupyter-widgets/controls",
          "model_name": "ProgressStyleModel",
          "state": {
            "_view_name": "StyleView",
            "_model_name": "ProgressStyleModel",
            "description_width": "initial",
            "_view_module": "@jupyter-widgets/base",
            "_model_module_version": "1.5.0",
            "_view_count": null,
            "_view_module_version": "1.2.0",
            "bar_color": null,
            "_model_module": "@jupyter-widgets/controls"
          }
        },
        "8034bd1552034bae8f0a7c80d2ad7907": {
          "model_module": "@jupyter-widgets/base",
          "model_name": "LayoutModel",
          "state": {
            "_view_name": "LayoutView",
            "grid_template_rows": null,
            "right": null,
            "justify_content": null,
            "_view_module": "@jupyter-widgets/base",
            "overflow": null,
            "_model_module_version": "1.2.0",
            "_view_count": null,
            "flex_flow": null,
            "width": null,
            "min_width": null,
            "border": null,
            "align_items": null,
            "bottom": null,
            "_model_module": "@jupyter-widgets/base",
            "top": null,
            "grid_column": null,
            "overflow_y": null,
            "overflow_x": null,
            "grid_auto_flow": null,
            "grid_area": null,
            "grid_template_columns": null,
            "flex": null,
            "_model_name": "LayoutModel",
            "justify_items": null,
            "grid_row": null,
            "max_height": null,
            "align_content": null,
            "visibility": null,
            "align_self": null,
            "height": null,
            "min_height": null,
            "padding": null,
            "grid_auto_rows": null,
            "grid_gap": null,
            "max_width": null,
            "order": null,
            "_view_module_version": "1.2.0",
            "grid_template_areas": null,
            "object_position": null,
            "object_fit": null,
            "grid_auto_columns": null,
            "margin": null,
            "display": null,
            "left": null
          }
        },
        "58f4ac0586d4441ca3a747cd22a109b6": {
          "model_module": "@jupyter-widgets/controls",
          "model_name": "DescriptionStyleModel",
          "state": {
            "_view_name": "StyleView",
            "_model_name": "DescriptionStyleModel",
            "description_width": "",
            "_view_module": "@jupyter-widgets/base",
            "_model_module_version": "1.5.0",
            "_view_count": null,
            "_view_module_version": "1.2.0",
            "_model_module": "@jupyter-widgets/controls"
          }
        },
        "a0ddb5a3c8ac4503a41bf829eac4d30e": {
          "model_module": "@jupyter-widgets/base",
          "model_name": "LayoutModel",
          "state": {
            "_view_name": "LayoutView",
            "grid_template_rows": null,
            "right": null,
            "justify_content": null,
            "_view_module": "@jupyter-widgets/base",
            "overflow": null,
            "_model_module_version": "1.2.0",
            "_view_count": null,
            "flex_flow": null,
            "width": null,
            "min_width": null,
            "border": null,
            "align_items": null,
            "bottom": null,
            "_model_module": "@jupyter-widgets/base",
            "top": null,
            "grid_column": null,
            "overflow_y": null,
            "overflow_x": null,
            "grid_auto_flow": null,
            "grid_area": null,
            "grid_template_columns": null,
            "flex": null,
            "_model_name": "LayoutModel",
            "justify_items": null,
            "grid_row": null,
            "max_height": null,
            "align_content": null,
            "visibility": null,
            "align_self": null,
            "height": null,
            "min_height": null,
            "padding": null,
            "grid_auto_rows": null,
            "grid_gap": null,
            "max_width": null,
            "order": null,
            "_view_module_version": "1.2.0",
            "grid_template_areas": null,
            "object_position": null,
            "object_fit": null,
            "grid_auto_columns": null,
            "margin": null,
            "display": null,
            "left": null
          }
        },
        "2604d343fcd848beb8e460c169946773": {
          "model_module": "@jupyter-widgets/controls",
          "model_name": "HBoxModel",
          "state": {
            "_view_name": "HBoxView",
            "_dom_classes": [],
            "_model_name": "HBoxModel",
            "_view_module": "@jupyter-widgets/controls",
            "_model_module_version": "1.5.0",
            "_view_count": null,
            "_view_module_version": "1.5.0",
            "box_style": "",
            "layout": "IPY_MODEL_d677a9d19f074e018fd8ebbcb1c2fb74",
            "_model_module": "@jupyter-widgets/controls",
            "children": [
              "IPY_MODEL_713f8a49b65649ca96138c7bfb3e613f",
              "IPY_MODEL_ac1eebd999ae481ebd350d29aa689fae"
            ]
          }
        },
        "d677a9d19f074e018fd8ebbcb1c2fb74": {
          "model_module": "@jupyter-widgets/base",
          "model_name": "LayoutModel",
          "state": {
            "_view_name": "LayoutView",
            "grid_template_rows": null,
            "right": null,
            "justify_content": null,
            "_view_module": "@jupyter-widgets/base",
            "overflow": null,
            "_model_module_version": "1.2.0",
            "_view_count": null,
            "flex_flow": null,
            "width": null,
            "min_width": null,
            "border": null,
            "align_items": null,
            "bottom": null,
            "_model_module": "@jupyter-widgets/base",
            "top": null,
            "grid_column": null,
            "overflow_y": null,
            "overflow_x": null,
            "grid_auto_flow": null,
            "grid_area": null,
            "grid_template_columns": null,
            "flex": null,
            "_model_name": "LayoutModel",
            "justify_items": null,
            "grid_row": null,
            "max_height": null,
            "align_content": null,
            "visibility": null,
            "align_self": null,
            "height": null,
            "min_height": null,
            "padding": null,
            "grid_auto_rows": null,
            "grid_gap": null,
            "max_width": null,
            "order": null,
            "_view_module_version": "1.2.0",
            "grid_template_areas": null,
            "object_position": null,
            "object_fit": null,
            "grid_auto_columns": null,
            "margin": null,
            "display": null,
            "left": null
          }
        },
        "713f8a49b65649ca96138c7bfb3e613f": {
          "model_module": "@jupyter-widgets/controls",
          "model_name": "FloatProgressModel",
          "state": {
            "_view_name": "ProgressView",
            "style": "IPY_MODEL_1458efdb106f423b904f7ceb0832dd56",
            "_dom_classes": [],
            "description": "Dl Size...: 100%",
            "_model_name": "FloatProgressModel",
            "bar_style": "success",
            "max": 1,
            "_view_module": "@jupyter-widgets/controls",
            "_model_module_version": "1.5.0",
            "value": 1,
            "_view_count": null,
            "_view_module_version": "1.5.0",
            "orientation": "horizontal",
            "min": 0,
            "description_tooltip": null,
            "_model_module": "@jupyter-widgets/controls",
            "layout": "IPY_MODEL_536e81faafc0467a962b0191ab0ed57a"
          }
        },
        "ac1eebd999ae481ebd350d29aa689fae": {
          "model_module": "@jupyter-widgets/controls",
          "model_name": "HTMLModel",
          "state": {
            "_view_name": "HTMLView",
            "style": "IPY_MODEL_6bf055cb122e4138b6aff287ee646822",
            "_dom_classes": [],
            "description": "",
            "_model_name": "HTMLModel",
            "placeholder": "​",
            "_view_module": "@jupyter-widgets/controls",
            "_model_module_version": "1.5.0",
            "value": " 786/786 [00:09&lt;00:00, 80.58 MiB/s]",
            "_view_count": null,
            "_view_module_version": "1.5.0",
            "description_tooltip": null,
            "_model_module": "@jupyter-widgets/controls",
            "layout": "IPY_MODEL_69328d9cd7704c85a6ea0aa65d45f156"
          }
        },
        "1458efdb106f423b904f7ceb0832dd56": {
          "model_module": "@jupyter-widgets/controls",
          "model_name": "ProgressStyleModel",
          "state": {
            "_view_name": "StyleView",
            "_model_name": "ProgressStyleModel",
            "description_width": "initial",
            "_view_module": "@jupyter-widgets/base",
            "_model_module_version": "1.5.0",
            "_view_count": null,
            "_view_module_version": "1.2.0",
            "bar_color": null,
            "_model_module": "@jupyter-widgets/controls"
          }
        },
        "536e81faafc0467a962b0191ab0ed57a": {
          "model_module": "@jupyter-widgets/base",
          "model_name": "LayoutModel",
          "state": {
            "_view_name": "LayoutView",
            "grid_template_rows": null,
            "right": null,
            "justify_content": null,
            "_view_module": "@jupyter-widgets/base",
            "overflow": null,
            "_model_module_version": "1.2.0",
            "_view_count": null,
            "flex_flow": null,
            "width": null,
            "min_width": null,
            "border": null,
            "align_items": null,
            "bottom": null,
            "_model_module": "@jupyter-widgets/base",
            "top": null,
            "grid_column": null,
            "overflow_y": null,
            "overflow_x": null,
            "grid_auto_flow": null,
            "grid_area": null,
            "grid_template_columns": null,
            "flex": null,
            "_model_name": "LayoutModel",
            "justify_items": null,
            "grid_row": null,
            "max_height": null,
            "align_content": null,
            "visibility": null,
            "align_self": null,
            "height": null,
            "min_height": null,
            "padding": null,
            "grid_auto_rows": null,
            "grid_gap": null,
            "max_width": null,
            "order": null,
            "_view_module_version": "1.2.0",
            "grid_template_areas": null,
            "object_position": null,
            "object_fit": null,
            "grid_auto_columns": null,
            "margin": null,
            "display": null,
            "left": null
          }
        },
        "6bf055cb122e4138b6aff287ee646822": {
          "model_module": "@jupyter-widgets/controls",
          "model_name": "DescriptionStyleModel",
          "state": {
            "_view_name": "StyleView",
            "_model_name": "DescriptionStyleModel",
            "description_width": "",
            "_view_module": "@jupyter-widgets/base",
            "_model_module_version": "1.5.0",
            "_view_count": null,
            "_view_module_version": "1.2.0",
            "_model_module": "@jupyter-widgets/controls"
          }
        },
        "69328d9cd7704c85a6ea0aa65d45f156": {
          "model_module": "@jupyter-widgets/base",
          "model_name": "LayoutModel",
          "state": {
            "_view_name": "LayoutView",
            "grid_template_rows": null,
            "right": null,
            "justify_content": null,
            "_view_module": "@jupyter-widgets/base",
            "overflow": null,
            "_model_module_version": "1.2.0",
            "_view_count": null,
            "flex_flow": null,
            "width": null,
            "min_width": null,
            "border": null,
            "align_items": null,
            "bottom": null,
            "_model_module": "@jupyter-widgets/base",
            "top": null,
            "grid_column": null,
            "overflow_y": null,
            "overflow_x": null,
            "grid_auto_flow": null,
            "grid_area": null,
            "grid_template_columns": null,
            "flex": null,
            "_model_name": "LayoutModel",
            "justify_items": null,
            "grid_row": null,
            "max_height": null,
            "align_content": null,
            "visibility": null,
            "align_self": null,
            "height": null,
            "min_height": null,
            "padding": null,
            "grid_auto_rows": null,
            "grid_gap": null,
            "max_width": null,
            "order": null,
            "_view_module_version": "1.2.0",
            "grid_template_areas": null,
            "object_position": null,
            "object_fit": null,
            "grid_auto_columns": null,
            "margin": null,
            "display": null,
            "left": null
          }
        },
        "323a93e4444c4e9ab1ae9e71c8eec965": {
          "model_module": "@jupyter-widgets/controls",
          "model_name": "HBoxModel",
          "state": {
            "_view_name": "HBoxView",
            "_dom_classes": [],
            "_model_name": "HBoxModel",
            "_view_module": "@jupyter-widgets/controls",
            "_model_module_version": "1.5.0",
            "_view_count": null,
            "_view_module_version": "1.5.0",
            "box_style": "",
            "layout": "IPY_MODEL_a3559cc880444f16a7ccf93da0458d18",
            "_model_module": "@jupyter-widgets/controls",
            "children": [
              "IPY_MODEL_0db23493f9c34f57a714d35d6c7925b5",
              "IPY_MODEL_ad8f5f77ce7845fd90255f4e20459236"
            ]
          }
        },
        "a3559cc880444f16a7ccf93da0458d18": {
          "model_module": "@jupyter-widgets/base",
          "model_name": "LayoutModel",
          "state": {
            "_view_name": "LayoutView",
            "grid_template_rows": null,
            "right": null,
            "justify_content": null,
            "_view_module": "@jupyter-widgets/base",
            "overflow": null,
            "_model_module_version": "1.2.0",
            "_view_count": null,
            "flex_flow": null,
            "width": null,
            "min_width": null,
            "border": null,
            "align_items": null,
            "bottom": null,
            "_model_module": "@jupyter-widgets/base",
            "top": null,
            "grid_column": null,
            "overflow_y": null,
            "overflow_x": null,
            "grid_auto_flow": null,
            "grid_area": null,
            "grid_template_columns": null,
            "flex": null,
            "_model_name": "LayoutModel",
            "justify_items": null,
            "grid_row": null,
            "max_height": null,
            "align_content": null,
            "visibility": null,
            "align_self": null,
            "height": null,
            "min_height": null,
            "padding": null,
            "grid_auto_rows": null,
            "grid_gap": null,
            "max_width": null,
            "order": null,
            "_view_module_version": "1.2.0",
            "grid_template_areas": null,
            "object_position": null,
            "object_fit": null,
            "grid_auto_columns": null,
            "margin": null,
            "display": null,
            "left": null
          }
        },
        "0db23493f9c34f57a714d35d6c7925b5": {
          "model_module": "@jupyter-widgets/controls",
          "model_name": "FloatProgressModel",
          "state": {
            "_view_name": "ProgressView",
            "style": "IPY_MODEL_56e12ce7118b4b219a7b2b544f3ed994",
            "_dom_classes": [],
            "description": "",
            "_model_name": "FloatProgressModel",
            "bar_style": "info",
            "max": 1,
            "_view_module": "@jupyter-widgets/controls",
            "_model_module_version": "1.5.0",
            "value": 1,
            "_view_count": null,
            "_view_module_version": "1.5.0",
            "orientation": "horizontal",
            "min": 0,
            "description_tooltip": null,
            "_model_module": "@jupyter-widgets/controls",
            "layout": "IPY_MODEL_901982d447144425a1917cbd5afe6592"
          }
        },
        "ad8f5f77ce7845fd90255f4e20459236": {
          "model_module": "@jupyter-widgets/controls",
          "model_name": "HTMLModel",
          "state": {
            "_view_name": "HTMLView",
            "style": "IPY_MODEL_45c8b644520449c286668a5ed8fc78bd",
            "_dom_classes": [],
            "description": "",
            "_model_name": "HTMLModel",
            "placeholder": "​",
            "_view_module": "@jupyter-widgets/controls",
            "_model_module_version": "1.5.0",
            "value": " 23262/0 [00:12&lt;00:00, 1870.57 examples/s]",
            "_view_count": null,
            "_view_module_version": "1.5.0",
            "description_tooltip": null,
            "_model_module": "@jupyter-widgets/controls",
            "layout": "IPY_MODEL_8777fe09fae94334bd87817200c6d995"
          }
        },
        "56e12ce7118b4b219a7b2b544f3ed994": {
          "model_module": "@jupyter-widgets/controls",
          "model_name": "ProgressStyleModel",
          "state": {
            "_view_name": "StyleView",
            "_model_name": "ProgressStyleModel",
            "description_width": "initial",
            "_view_module": "@jupyter-widgets/base",
            "_model_module_version": "1.5.0",
            "_view_count": null,
            "_view_module_version": "1.2.0",
            "bar_color": null,
            "_model_module": "@jupyter-widgets/controls"
          }
        },
        "901982d447144425a1917cbd5afe6592": {
          "model_module": "@jupyter-widgets/base",
          "model_name": "LayoutModel",
          "state": {
            "_view_name": "LayoutView",
            "grid_template_rows": null,
            "right": null,
            "justify_content": null,
            "_view_module": "@jupyter-widgets/base",
            "overflow": null,
            "_model_module_version": "1.2.0",
            "_view_count": null,
            "flex_flow": null,
            "width": null,
            "min_width": null,
            "border": null,
            "align_items": null,
            "bottom": null,
            "_model_module": "@jupyter-widgets/base",
            "top": null,
            "grid_column": null,
            "overflow_y": null,
            "overflow_x": null,
            "grid_auto_flow": null,
            "grid_area": null,
            "grid_template_columns": null,
            "flex": null,
            "_model_name": "LayoutModel",
            "justify_items": null,
            "grid_row": null,
            "max_height": null,
            "align_content": null,
            "visibility": null,
            "align_self": null,
            "height": null,
            "min_height": null,
            "padding": null,
            "grid_auto_rows": null,
            "grid_gap": null,
            "max_width": null,
            "order": null,
            "_view_module_version": "1.2.0",
            "grid_template_areas": null,
            "object_position": null,
            "object_fit": null,
            "grid_auto_columns": null,
            "margin": null,
            "display": null,
            "left": null
          }
        },
        "45c8b644520449c286668a5ed8fc78bd": {
          "model_module": "@jupyter-widgets/controls",
          "model_name": "DescriptionStyleModel",
          "state": {
            "_view_name": "StyleView",
            "_model_name": "DescriptionStyleModel",
            "description_width": "",
            "_view_module": "@jupyter-widgets/base",
            "_model_module_version": "1.5.0",
            "_view_count": null,
            "_view_module_version": "1.2.0",
            "_model_module": "@jupyter-widgets/controls"
          }
        },
        "8777fe09fae94334bd87817200c6d995": {
          "model_module": "@jupyter-widgets/base",
          "model_name": "LayoutModel",
          "state": {
            "_view_name": "LayoutView",
            "grid_template_rows": null,
            "right": null,
            "justify_content": null,
            "_view_module": "@jupyter-widgets/base",
            "overflow": null,
            "_model_module_version": "1.2.0",
            "_view_count": null,
            "flex_flow": null,
            "width": null,
            "min_width": null,
            "border": null,
            "align_items": null,
            "bottom": null,
            "_model_module": "@jupyter-widgets/base",
            "top": null,
            "grid_column": null,
            "overflow_y": null,
            "overflow_x": null,
            "grid_auto_flow": null,
            "grid_area": null,
            "grid_template_columns": null,
            "flex": null,
            "_model_name": "LayoutModel",
            "justify_items": null,
            "grid_row": null,
            "max_height": null,
            "align_content": null,
            "visibility": null,
            "align_self": null,
            "height": null,
            "min_height": null,
            "padding": null,
            "grid_auto_rows": null,
            "grid_gap": null,
            "max_width": null,
            "order": null,
            "_view_module_version": "1.2.0",
            "grid_template_areas": null,
            "object_position": null,
            "object_fit": null,
            "grid_auto_columns": null,
            "margin": null,
            "display": null,
            "left": null
          }
        },
        "04d0d1378bb047d182fd1b7993482012": {
          "model_module": "@jupyter-widgets/controls",
          "model_name": "HBoxModel",
          "state": {
            "_view_name": "HBoxView",
            "_dom_classes": [],
            "_model_name": "HBoxModel",
            "_view_module": "@jupyter-widgets/controls",
            "_model_module_version": "1.5.0",
            "_view_count": null,
            "_view_module_version": "1.5.0",
            "box_style": "",
            "layout": "IPY_MODEL_d68c943eae8945e69fbd9c52772a7442",
            "_model_module": "@jupyter-widgets/controls",
            "children": [
              "IPY_MODEL_d256169ec1404bdcaa4943e03ee6903a",
              "IPY_MODEL_6993bba45cd44b6e805b5556e39de189"
            ]
          }
        },
        "d68c943eae8945e69fbd9c52772a7442": {
          "model_module": "@jupyter-widgets/base",
          "model_name": "LayoutModel",
          "state": {
            "_view_name": "LayoutView",
            "grid_template_rows": null,
            "right": null,
            "justify_content": null,
            "_view_module": "@jupyter-widgets/base",
            "overflow": null,
            "_model_module_version": "1.2.0",
            "_view_count": null,
            "flex_flow": null,
            "width": null,
            "min_width": null,
            "border": null,
            "align_items": null,
            "bottom": null,
            "_model_module": "@jupyter-widgets/base",
            "top": null,
            "grid_column": null,
            "overflow_y": null,
            "overflow_x": null,
            "grid_auto_flow": null,
            "grid_area": null,
            "grid_template_columns": null,
            "flex": null,
            "_model_name": "LayoutModel",
            "justify_items": null,
            "grid_row": null,
            "max_height": null,
            "align_content": null,
            "visibility": null,
            "align_self": null,
            "height": null,
            "min_height": null,
            "padding": null,
            "grid_auto_rows": null,
            "grid_gap": null,
            "max_width": null,
            "order": null,
            "_view_module_version": "1.2.0",
            "grid_template_areas": null,
            "object_position": null,
            "object_fit": null,
            "grid_auto_columns": null,
            "margin": null,
            "display": null,
            "left": null
          }
        },
        "d256169ec1404bdcaa4943e03ee6903a": {
          "model_module": "@jupyter-widgets/controls",
          "model_name": "FloatProgressModel",
          "state": {
            "_view_name": "ProgressView",
            "style": "IPY_MODEL_5ab59a64a1d640f793f8a7cdac734d2e",
            "_dom_classes": [],
            "description": " 96%",
            "_model_name": "FloatProgressModel",
            "bar_style": "danger",
            "max": 23262,
            "_view_module": "@jupyter-widgets/controls",
            "_model_module_version": "1.5.0",
            "value": 22408,
            "_view_count": null,
            "_view_module_version": "1.5.0",
            "orientation": "horizontal",
            "min": 0,
            "description_tooltip": null,
            "_model_module": "@jupyter-widgets/controls",
            "layout": "IPY_MODEL_ae52b03074fd4e60bc0f9ab93f7e375b"
          }
        },
        "6993bba45cd44b6e805b5556e39de189": {
          "model_module": "@jupyter-widgets/controls",
          "model_name": "HTMLModel",
          "state": {
            "_view_name": "HTMLView",
            "style": "IPY_MODEL_ddccd240e7f14ac8a97d3324de89a81d",
            "_dom_classes": [],
            "description": "",
            "_model_name": "HTMLModel",
            "placeholder": "​",
            "_view_module": "@jupyter-widgets/controls",
            "_model_module_version": "1.5.0",
            "value": " 22408/23262 [00:08&lt;00:00, 7967.81 examples/s]",
            "_view_count": null,
            "_view_module_version": "1.5.0",
            "description_tooltip": null,
            "_model_module": "@jupyter-widgets/controls",
            "layout": "IPY_MODEL_04439c18833e421ab6c33e349fc2d4ba"
          }
        },
        "5ab59a64a1d640f793f8a7cdac734d2e": {
          "model_module": "@jupyter-widgets/controls",
          "model_name": "ProgressStyleModel",
          "state": {
            "_view_name": "StyleView",
            "_model_name": "ProgressStyleModel",
            "description_width": "initial",
            "_view_module": "@jupyter-widgets/base",
            "_model_module_version": "1.5.0",
            "_view_count": null,
            "_view_module_version": "1.2.0",
            "bar_color": null,
            "_model_module": "@jupyter-widgets/controls"
          }
        },
        "ae52b03074fd4e60bc0f9ab93f7e375b": {
          "model_module": "@jupyter-widgets/base",
          "model_name": "LayoutModel",
          "state": {
            "_view_name": "LayoutView",
            "grid_template_rows": null,
            "right": null,
            "justify_content": null,
            "_view_module": "@jupyter-widgets/base",
            "overflow": null,
            "_model_module_version": "1.2.0",
            "_view_count": null,
            "flex_flow": null,
            "width": null,
            "min_width": null,
            "border": null,
            "align_items": null,
            "bottom": null,
            "_model_module": "@jupyter-widgets/base",
            "top": null,
            "grid_column": null,
            "overflow_y": null,
            "overflow_x": null,
            "grid_auto_flow": null,
            "grid_area": null,
            "grid_template_columns": null,
            "flex": null,
            "_model_name": "LayoutModel",
            "justify_items": null,
            "grid_row": null,
            "max_height": null,
            "align_content": null,
            "visibility": null,
            "align_self": null,
            "height": null,
            "min_height": null,
            "padding": null,
            "grid_auto_rows": null,
            "grid_gap": null,
            "max_width": null,
            "order": null,
            "_view_module_version": "1.2.0",
            "grid_template_areas": null,
            "object_position": null,
            "object_fit": null,
            "grid_auto_columns": null,
            "margin": null,
            "display": null,
            "left": null
          }
        },
        "ddccd240e7f14ac8a97d3324de89a81d": {
          "model_module": "@jupyter-widgets/controls",
          "model_name": "DescriptionStyleModel",
          "state": {
            "_view_name": "StyleView",
            "_model_name": "DescriptionStyleModel",
            "description_width": "",
            "_view_module": "@jupyter-widgets/base",
            "_model_module_version": "1.5.0",
            "_view_count": null,
            "_view_module_version": "1.2.0",
            "_model_module": "@jupyter-widgets/controls"
          }
        },
        "04439c18833e421ab6c33e349fc2d4ba": {
          "model_module": "@jupyter-widgets/base",
          "model_name": "LayoutModel",
          "state": {
            "_view_name": "LayoutView",
            "grid_template_rows": null,
            "right": null,
            "justify_content": null,
            "_view_module": "@jupyter-widgets/base",
            "overflow": null,
            "_model_module_version": "1.2.0",
            "_view_count": null,
            "flex_flow": null,
            "width": null,
            "min_width": null,
            "border": null,
            "align_items": null,
            "bottom": null,
            "_model_module": "@jupyter-widgets/base",
            "top": null,
            "grid_column": null,
            "overflow_y": null,
            "overflow_x": null,
            "grid_auto_flow": null,
            "grid_area": null,
            "grid_template_columns": null,
            "flex": null,
            "_model_name": "LayoutModel",
            "justify_items": null,
            "grid_row": null,
            "max_height": null,
            "align_content": null,
            "visibility": null,
            "align_self": null,
            "height": null,
            "min_height": null,
            "padding": null,
            "grid_auto_rows": null,
            "grid_gap": null,
            "max_width": null,
            "order": null,
            "_view_module_version": "1.2.0",
            "grid_template_areas": null,
            "object_position": null,
            "object_fit": null,
            "grid_auto_columns": null,
            "margin": null,
            "display": null,
            "left": null
          }
        },
        "96d49e2dd1e7450ba4770494dd2a3336": {
          "model_module": "@jupyter-widgets/controls",
          "model_name": "HBoxModel",
          "state": {
            "_view_name": "HBoxView",
            "_dom_classes": [],
            "_model_name": "HBoxModel",
            "_view_module": "@jupyter-widgets/controls",
            "_model_module_version": "1.5.0",
            "_view_count": null,
            "_view_module_version": "1.5.0",
            "box_style": "",
            "layout": "IPY_MODEL_d5ab2e956f0240b3861639016ea48e8a",
            "_model_module": "@jupyter-widgets/controls",
            "children": [
              "IPY_MODEL_22dcadf79f6f4e5897d773651743eeb1",
              "IPY_MODEL_a2d172a9fabd4cdc9235797710ebd7e8"
            ]
          }
        },
        "d5ab2e956f0240b3861639016ea48e8a": {
          "model_module": "@jupyter-widgets/base",
          "model_name": "LayoutModel",
          "state": {
            "_view_name": "LayoutView",
            "grid_template_rows": null,
            "right": null,
            "justify_content": null,
            "_view_module": "@jupyter-widgets/base",
            "overflow": null,
            "_model_module_version": "1.2.0",
            "_view_count": null,
            "flex_flow": null,
            "width": null,
            "min_width": null,
            "border": null,
            "align_items": null,
            "bottom": null,
            "_model_module": "@jupyter-widgets/base",
            "top": null,
            "grid_column": null,
            "overflow_y": null,
            "overflow_x": null,
            "grid_auto_flow": null,
            "grid_area": null,
            "grid_template_columns": null,
            "flex": null,
            "_model_name": "LayoutModel",
            "justify_items": null,
            "grid_row": null,
            "max_height": null,
            "align_content": null,
            "visibility": null,
            "align_self": null,
            "height": null,
            "min_height": null,
            "padding": null,
            "grid_auto_rows": null,
            "grid_gap": null,
            "max_width": null,
            "order": null,
            "_view_module_version": "1.2.0",
            "grid_template_areas": null,
            "object_position": null,
            "object_fit": null,
            "grid_auto_columns": null,
            "margin": null,
            "display": null,
            "left": null
          }
        },
        "22dcadf79f6f4e5897d773651743eeb1": {
          "model_module": "@jupyter-widgets/controls",
          "model_name": "FloatProgressModel",
          "state": {
            "_view_name": "ProgressView",
            "style": "IPY_MODEL_2752054a057f463a86358e12ea2ed206",
            "_dom_classes": [],
            "description": "Computing statistics...: 100%",
            "_model_name": "FloatProgressModel",
            "bar_style": "success",
            "max": 1,
            "_view_module": "@jupyter-widgets/controls",
            "_model_module_version": "1.5.0",
            "value": 1,
            "_view_count": null,
            "_view_module_version": "1.5.0",
            "orientation": "horizontal",
            "min": 0,
            "description_tooltip": null,
            "_model_module": "@jupyter-widgets/controls",
            "layout": "IPY_MODEL_3459d2bb3edd419d8fc25569ec030d12"
          }
        },
        "a2d172a9fabd4cdc9235797710ebd7e8": {
          "model_module": "@jupyter-widgets/controls",
          "model_name": "HTMLModel",
          "state": {
            "_view_name": "HTMLView",
            "style": "IPY_MODEL_995fa0bf72164ccbbcf2c9bb7b3a6620",
            "_dom_classes": [],
            "description": "",
            "_model_name": "HTMLModel",
            "placeholder": "​",
            "_view_module": "@jupyter-widgets/controls",
            "_model_module_version": "1.5.0",
            "value": " 1/1 [00:43&lt;00:00, 43.91s/ split]",
            "_view_count": null,
            "_view_module_version": "1.5.0",
            "description_tooltip": null,
            "_model_module": "@jupyter-widgets/controls",
            "layout": "IPY_MODEL_4d14199f95b246748fabda5c412dc9fa"
          }
        },
        "2752054a057f463a86358e12ea2ed206": {
          "model_module": "@jupyter-widgets/controls",
          "model_name": "ProgressStyleModel",
          "state": {
            "_view_name": "StyleView",
            "_model_name": "ProgressStyleModel",
            "description_width": "initial",
            "_view_module": "@jupyter-widgets/base",
            "_model_module_version": "1.5.0",
            "_view_count": null,
            "_view_module_version": "1.2.0",
            "bar_color": null,
            "_model_module": "@jupyter-widgets/controls"
          }
        },
        "3459d2bb3edd419d8fc25569ec030d12": {
          "model_module": "@jupyter-widgets/base",
          "model_name": "LayoutModel",
          "state": {
            "_view_name": "LayoutView",
            "grid_template_rows": null,
            "right": null,
            "justify_content": null,
            "_view_module": "@jupyter-widgets/base",
            "overflow": null,
            "_model_module_version": "1.2.0",
            "_view_count": null,
            "flex_flow": null,
            "width": null,
            "min_width": null,
            "border": null,
            "align_items": null,
            "bottom": null,
            "_model_module": "@jupyter-widgets/base",
            "top": null,
            "grid_column": null,
            "overflow_y": null,
            "overflow_x": null,
            "grid_auto_flow": null,
            "grid_area": null,
            "grid_template_columns": null,
            "flex": null,
            "_model_name": "LayoutModel",
            "justify_items": null,
            "grid_row": null,
            "max_height": null,
            "align_content": null,
            "visibility": null,
            "align_self": null,
            "height": null,
            "min_height": null,
            "padding": null,
            "grid_auto_rows": null,
            "grid_gap": null,
            "max_width": null,
            "order": null,
            "_view_module_version": "1.2.0",
            "grid_template_areas": null,
            "object_position": null,
            "object_fit": null,
            "grid_auto_columns": null,
            "margin": null,
            "display": null,
            "left": null
          }
        },
        "995fa0bf72164ccbbcf2c9bb7b3a6620": {
          "model_module": "@jupyter-widgets/controls",
          "model_name": "DescriptionStyleModel",
          "state": {
            "_view_name": "StyleView",
            "_model_name": "DescriptionStyleModel",
            "description_width": "",
            "_view_module": "@jupyter-widgets/base",
            "_model_module_version": "1.5.0",
            "_view_count": null,
            "_view_module_version": "1.2.0",
            "_model_module": "@jupyter-widgets/controls"
          }
        },
        "4d14199f95b246748fabda5c412dc9fa": {
          "model_module": "@jupyter-widgets/base",
          "model_name": "LayoutModel",
          "state": {
            "_view_name": "LayoutView",
            "grid_template_rows": null,
            "right": null,
            "justify_content": null,
            "_view_module": "@jupyter-widgets/base",
            "overflow": null,
            "_model_module_version": "1.2.0",
            "_view_count": null,
            "flex_flow": null,
            "width": null,
            "min_width": null,
            "border": null,
            "align_items": null,
            "bottom": null,
            "_model_module": "@jupyter-widgets/base",
            "top": null,
            "grid_column": null,
            "overflow_y": null,
            "overflow_x": null,
            "grid_auto_flow": null,
            "grid_area": null,
            "grid_template_columns": null,
            "flex": null,
            "_model_name": "LayoutModel",
            "justify_items": null,
            "grid_row": null,
            "max_height": null,
            "align_content": null,
            "visibility": null,
            "align_self": null,
            "height": null,
            "min_height": null,
            "padding": null,
            "grid_auto_rows": null,
            "grid_gap": null,
            "max_width": null,
            "order": null,
            "_view_module_version": "1.2.0",
            "grid_template_areas": null,
            "object_position": null,
            "object_fit": null,
            "grid_auto_columns": null,
            "margin": null,
            "display": null,
            "left": null
          }
        },
        "c506ac48103047cbaeb98ea052001a6b": {
          "model_module": "@jupyter-widgets/controls",
          "model_name": "HBoxModel",
          "state": {
            "_view_name": "HBoxView",
            "_dom_classes": [],
            "_model_name": "HBoxModel",
            "_view_module": "@jupyter-widgets/controls",
            "_model_module_version": "1.5.0",
            "_view_count": null,
            "_view_module_version": "1.5.0",
            "box_style": "",
            "layout": "IPY_MODEL_55766725d32a43518f85509f1f0fd2bc",
            "_model_module": "@jupyter-widgets/controls",
            "children": [
              "IPY_MODEL_e3323e53be444f1287ae72d696070188",
              "IPY_MODEL_194b08806d7645bf8a7ff7907f9e6964"
            ]
          }
        },
        "55766725d32a43518f85509f1f0fd2bc": {
          "model_module": "@jupyter-widgets/base",
          "model_name": "LayoutModel",
          "state": {
            "_view_name": "LayoutView",
            "grid_template_rows": null,
            "right": null,
            "justify_content": null,
            "_view_module": "@jupyter-widgets/base",
            "overflow": null,
            "_model_module_version": "1.2.0",
            "_view_count": null,
            "flex_flow": null,
            "width": null,
            "min_width": null,
            "border": null,
            "align_items": null,
            "bottom": null,
            "_model_module": "@jupyter-widgets/base",
            "top": null,
            "grid_column": null,
            "overflow_y": null,
            "overflow_x": null,
            "grid_auto_flow": null,
            "grid_area": null,
            "grid_template_columns": null,
            "flex": null,
            "_model_name": "LayoutModel",
            "justify_items": null,
            "grid_row": null,
            "max_height": null,
            "align_content": null,
            "visibility": null,
            "align_self": null,
            "height": null,
            "min_height": null,
            "padding": null,
            "grid_auto_rows": null,
            "grid_gap": null,
            "max_width": null,
            "order": null,
            "_view_module_version": "1.2.0",
            "grid_template_areas": null,
            "object_position": null,
            "object_fit": null,
            "grid_auto_columns": null,
            "margin": null,
            "display": null,
            "left": null
          }
        },
        "e3323e53be444f1287ae72d696070188": {
          "model_module": "@jupyter-widgets/controls",
          "model_name": "FloatProgressModel",
          "state": {
            "_view_name": "ProgressView",
            "style": "IPY_MODEL_ed9226eb4aef4de6bd38c7ed9a6b9397",
            "_dom_classes": [],
            "description": "",
            "_model_name": "FloatProgressModel",
            "bar_style": "info",
            "max": 1,
            "_view_module": "@jupyter-widgets/controls",
            "_model_module_version": "1.5.0",
            "value": 1,
            "_view_count": null,
            "_view_module_version": "1.5.0",
            "orientation": "horizontal",
            "min": 0,
            "description_tooltip": null,
            "_model_module": "@jupyter-widgets/controls",
            "layout": "IPY_MODEL_d7b4bd5d116c4f2ba220727b436b0852"
          }
        },
        "194b08806d7645bf8a7ff7907f9e6964": {
          "model_module": "@jupyter-widgets/controls",
          "model_name": "HTMLModel",
          "state": {
            "_view_name": "HTMLView",
            "style": "IPY_MODEL_a54a0cbc699e456188ba002cf43443c6",
            "_dom_classes": [],
            "description": "",
            "_model_name": "HTMLModel",
            "placeholder": "​",
            "_view_module": "@jupyter-widgets/controls",
            "_model_module_version": "1.5.0",
            "value": " 23262/? [00:37&lt;00:00, 631.37 examples/s]",
            "_view_count": null,
            "_view_module_version": "1.5.0",
            "description_tooltip": null,
            "_model_module": "@jupyter-widgets/controls",
            "layout": "IPY_MODEL_a570214e226b45989b1efa9f8b51549a"
          }
        },
        "ed9226eb4aef4de6bd38c7ed9a6b9397": {
          "model_module": "@jupyter-widgets/controls",
          "model_name": "ProgressStyleModel",
          "state": {
            "_view_name": "StyleView",
            "_model_name": "ProgressStyleModel",
            "description_width": "initial",
            "_view_module": "@jupyter-widgets/base",
            "_model_module_version": "1.5.0",
            "_view_count": null,
            "_view_module_version": "1.2.0",
            "bar_color": null,
            "_model_module": "@jupyter-widgets/controls"
          }
        },
        "d7b4bd5d116c4f2ba220727b436b0852": {
          "model_module": "@jupyter-widgets/base",
          "model_name": "LayoutModel",
          "state": {
            "_view_name": "LayoutView",
            "grid_template_rows": null,
            "right": null,
            "justify_content": null,
            "_view_module": "@jupyter-widgets/base",
            "overflow": null,
            "_model_module_version": "1.2.0",
            "_view_count": null,
            "flex_flow": null,
            "width": null,
            "min_width": null,
            "border": null,
            "align_items": null,
            "bottom": null,
            "_model_module": "@jupyter-widgets/base",
            "top": null,
            "grid_column": null,
            "overflow_y": null,
            "overflow_x": null,
            "grid_auto_flow": null,
            "grid_area": null,
            "grid_template_columns": null,
            "flex": null,
            "_model_name": "LayoutModel",
            "justify_items": null,
            "grid_row": null,
            "max_height": null,
            "align_content": null,
            "visibility": null,
            "align_self": null,
            "height": null,
            "min_height": null,
            "padding": null,
            "grid_auto_rows": null,
            "grid_gap": null,
            "max_width": null,
            "order": null,
            "_view_module_version": "1.2.0",
            "grid_template_areas": null,
            "object_position": null,
            "object_fit": null,
            "grid_auto_columns": null,
            "margin": null,
            "display": null,
            "left": null
          }
        },
        "a54a0cbc699e456188ba002cf43443c6": {
          "model_module": "@jupyter-widgets/controls",
          "model_name": "DescriptionStyleModel",
          "state": {
            "_view_name": "StyleView",
            "_model_name": "DescriptionStyleModel",
            "description_width": "",
            "_view_module": "@jupyter-widgets/base",
            "_model_module_version": "1.5.0",
            "_view_count": null,
            "_view_module_version": "1.2.0",
            "_model_module": "@jupyter-widgets/controls"
          }
        },
        "a570214e226b45989b1efa9f8b51549a": {
          "model_module": "@jupyter-widgets/base",
          "model_name": "LayoutModel",
          "state": {
            "_view_name": "LayoutView",
            "grid_template_rows": null,
            "right": null,
            "justify_content": null,
            "_view_module": "@jupyter-widgets/base",
            "overflow": null,
            "_model_module_version": "1.2.0",
            "_view_count": null,
            "flex_flow": null,
            "width": null,
            "min_width": null,
            "border": null,
            "align_items": null,
            "bottom": null,
            "_model_module": "@jupyter-widgets/base",
            "top": null,
            "grid_column": null,
            "overflow_y": null,
            "overflow_x": null,
            "grid_auto_flow": null,
            "grid_area": null,
            "grid_template_columns": null,
            "flex": null,
            "_model_name": "LayoutModel",
            "justify_items": null,
            "grid_row": null,
            "max_height": null,
            "align_content": null,
            "visibility": null,
            "align_self": null,
            "height": null,
            "min_height": null,
            "padding": null,
            "grid_auto_rows": null,
            "grid_gap": null,
            "max_width": null,
            "order": null,
            "_view_module_version": "1.2.0",
            "grid_template_areas": null,
            "object_position": null,
            "object_fit": null,
            "grid_auto_columns": null,
            "margin": null,
            "display": null,
            "left": null
          }
        }
      }
    }
  },
  "cells": [
    {
      "cell_type": "markdown",
      "metadata": {
        "id": "view-in-github",
        "colab_type": "text"
      },
      "source": [
        "<a href=\"https://colab.research.google.com/github/sseunghyuns/deeplearning/blob/master/cats_vs_dogs.ipynb\" target=\"_parent\"><img src=\"https://colab.research.google.com/assets/colab-badge.svg\" alt=\"Open In Colab\"/></a>"
      ]
    },
    {
      "cell_type": "markdown",
      "metadata": {
        "id": "einVDdocArw8",
        "colab_type": "text"
      },
      "source": [
        "# Computer Vision with CNNs"
      ]
    },
    {
      "cell_type": "markdown",
      "metadata": {
        "id": "DAkJVYhtAwjU",
        "colab_type": "text"
      },
      "source": [
        "## 라이브러리 불러오기"
      ]
    },
    {
      "cell_type": "code",
      "metadata": {
        "id": "5OSmHp6GAzTo",
        "colab_type": "code",
        "colab": {}
      },
      "source": [
        "import tensorflow_datasets as tfds\n",
        "import tensorflow as tf\n",
        "from tensorflow.keras.models import Sequential\n",
        "from tensorflow.keras.layers import Dense, Conv2D, MaxPooling2D, Dropout, Flatten\n",
        "from tensorflow.keras.callbacks import ModelCheckpoint"
      ],
      "execution_count": 1,
      "outputs": []
    },
    {
      "cell_type": "code",
      "metadata": {
        "id": "naUvh7s5A11N",
        "colab_type": "code",
        "colab": {
          "base_uri": "https://localhost:8080/",
          "height": 352,
          "referenced_widgets": [
            "824fd809a26c44bda3938ffb1efd2f01",
            "7e3432e7765c4937a1e07f783e235e86",
            "5bf7155645cc485f8dc7faa8da7e2a85",
            "c6abc7f2baee4ce1bea6df2796830f42",
            "eea58a1cf67d424c964e66cb9c5ccddc",
            "8034bd1552034bae8f0a7c80d2ad7907",
            "58f4ac0586d4441ca3a747cd22a109b6",
            "a0ddb5a3c8ac4503a41bf829eac4d30e",
            "2604d343fcd848beb8e460c169946773",
            "d677a9d19f074e018fd8ebbcb1c2fb74",
            "713f8a49b65649ca96138c7bfb3e613f",
            "ac1eebd999ae481ebd350d29aa689fae",
            "1458efdb106f423b904f7ceb0832dd56",
            "536e81faafc0467a962b0191ab0ed57a",
            "6bf055cb122e4138b6aff287ee646822",
            "69328d9cd7704c85a6ea0aa65d45f156",
            "323a93e4444c4e9ab1ae9e71c8eec965",
            "a3559cc880444f16a7ccf93da0458d18",
            "0db23493f9c34f57a714d35d6c7925b5",
            "ad8f5f77ce7845fd90255f4e20459236",
            "56e12ce7118b4b219a7b2b544f3ed994",
            "901982d447144425a1917cbd5afe6592",
            "45c8b644520449c286668a5ed8fc78bd",
            "8777fe09fae94334bd87817200c6d995",
            "04d0d1378bb047d182fd1b7993482012",
            "d68c943eae8945e69fbd9c52772a7442",
            "d256169ec1404bdcaa4943e03ee6903a",
            "6993bba45cd44b6e805b5556e39de189",
            "5ab59a64a1d640f793f8a7cdac734d2e",
            "ae52b03074fd4e60bc0f9ab93f7e375b",
            "ddccd240e7f14ac8a97d3324de89a81d",
            "04439c18833e421ab6c33e349fc2d4ba",
            "96d49e2dd1e7450ba4770494dd2a3336",
            "d5ab2e956f0240b3861639016ea48e8a",
            "22dcadf79f6f4e5897d773651743eeb1",
            "a2d172a9fabd4cdc9235797710ebd7e8",
            "2752054a057f463a86358e12ea2ed206",
            "3459d2bb3edd419d8fc25569ec030d12",
            "995fa0bf72164ccbbcf2c9bb7b3a6620",
            "4d14199f95b246748fabda5c412dc9fa",
            "c506ac48103047cbaeb98ea052001a6b",
            "55766725d32a43518f85509f1f0fd2bc",
            "e3323e53be444f1287ae72d696070188",
            "194b08806d7645bf8a7ff7907f9e6964",
            "ed9226eb4aef4de6bd38c7ed9a6b9397",
            "d7b4bd5d116c4f2ba220727b436b0852",
            "a54a0cbc699e456188ba002cf43443c6",
            "a570214e226b45989b1efa9f8b51549a"
          ]
        },
        "outputId": "61a37876-9c9e-4c68-a091-a506b1bd61ef"
      },
      "source": [
        "dataset_name = 'cats_vs_dogs'\n",
        "\n",
        "train_dataset, info = tfds.load(name=dataset_name, split = 'train[:80%]', with_info=True)\n",
        "valid_dataset = tfds.load(name=dataset_name, split = 'train[-20%:]')"
      ],
      "execution_count": 2,
      "outputs": [
        {
          "output_type": "stream",
          "text": [
            "\u001b[1mDownloading and preparing dataset cats_vs_dogs/4.0.0 (download: 786.68 MiB, generated: Unknown size, total: 786.68 MiB) to /root/tensorflow_datasets/cats_vs_dogs/4.0.0...\u001b[0m\n"
          ],
          "name": "stdout"
        },
        {
          "output_type": "display_data",
          "data": {
            "application/vnd.jupyter.widget-view+json": {
              "model_id": "824fd809a26c44bda3938ffb1efd2f01",
              "version_minor": 0,
              "version_major": 2
            },
            "text/plain": [
              "HBox(children=(FloatProgress(value=1.0, bar_style='info', description='Dl Completed...', max=1.0, style=Progre…"
            ]
          },
          "metadata": {
            "tags": []
          }
        },
        {
          "output_type": "display_data",
          "data": {
            "application/vnd.jupyter.widget-view+json": {
              "model_id": "2604d343fcd848beb8e460c169946773",
              "version_minor": 0,
              "version_major": 2
            },
            "text/plain": [
              "HBox(children=(FloatProgress(value=1.0, bar_style='info', description='Dl Size...', max=1.0, style=ProgressSty…"
            ]
          },
          "metadata": {
            "tags": []
          }
        },
        {
          "output_type": "stream",
          "text": [
            "/usr/local/lib/python3.6/dist-packages/urllib3/connectionpool.py:847: InsecureRequestWarning: Unverified HTTPS request is being made. Adding certificate verification is strongly advised. See: https://urllib3.readthedocs.io/en/latest/advanced-usage.html#ssl-warnings\n",
            "  InsecureRequestWarning)\n"
          ],
          "name": "stderr"
        },
        {
          "output_type": "stream",
          "text": [
            "\n",
            "\n",
            "\n",
            "\n"
          ],
          "name": "stdout"
        },
        {
          "output_type": "display_data",
          "data": {
            "application/vnd.jupyter.widget-view+json": {
              "model_id": "323a93e4444c4e9ab1ae9e71c8eec965",
              "version_minor": 0,
              "version_major": 2
            },
            "text/plain": [
              "HBox(children=(FloatProgress(value=1.0, bar_style='info', max=1.0), HTML(value='')))"
            ]
          },
          "metadata": {
            "tags": []
          }
        },
        {
          "output_type": "stream",
          "text": [
            "WARNING:absl:1738 images were corrupted and were skipped\n"
          ],
          "name": "stderr"
        },
        {
          "output_type": "stream",
          "text": [
            "\rShuffling and writing examples to /root/tensorflow_datasets/cats_vs_dogs/4.0.0.incomplete7TMSTV/cats_vs_dogs-train.tfrecord\n"
          ],
          "name": "stdout"
        },
        {
          "output_type": "display_data",
          "data": {
            "application/vnd.jupyter.widget-view+json": {
              "model_id": "04d0d1378bb047d182fd1b7993482012",
              "version_minor": 0,
              "version_major": 2
            },
            "text/plain": [
              "HBox(children=(FloatProgress(value=0.0, max=23262.0), HTML(value='')))"
            ]
          },
          "metadata": {
            "tags": []
          }
        },
        {
          "output_type": "display_data",
          "data": {
            "application/vnd.jupyter.widget-view+json": {
              "model_id": "96d49e2dd1e7450ba4770494dd2a3336",
              "version_minor": 0,
              "version_major": 2
            },
            "text/plain": [
              "HBox(children=(FloatProgress(value=0.0, description='Computing statistics...', max=1.0, style=ProgressStyle(de…"
            ]
          },
          "metadata": {
            "tags": []
          }
        },
        {
          "output_type": "stream",
          "text": [
            "\r"
          ],
          "name": "stdout"
        },
        {
          "output_type": "display_data",
          "data": {
            "application/vnd.jupyter.widget-view+json": {
              "model_id": "c506ac48103047cbaeb98ea052001a6b",
              "version_minor": 0,
              "version_major": 2
            },
            "text/plain": [
              "HBox(children=(FloatProgress(value=1.0, bar_style='info', max=1.0), HTML(value='')))"
            ]
          },
          "metadata": {
            "tags": []
          }
        },
        {
          "output_type": "stream",
          "text": [
            "\r\n",
            "\u001b[1mDataset cats_vs_dogs downloaded and prepared to /root/tensorflow_datasets/cats_vs_dogs/4.0.0. Subsequent calls will reuse this data.\u001b[0m\n"
          ],
          "name": "stdout"
        }
      ]
    },
    {
      "cell_type": "markdown",
      "metadata": {
        "id": "QTjFw78rA6AC",
        "colab_type": "text"
      },
      "source": [
        "## 데이터 전처리"
      ]
    },
    {
      "cell_type": "code",
      "metadata": {
        "id": "r1o-cgOyA2AY",
        "colab_type": "code",
        "colab": {}
      },
      "source": [
        "def preprocess(features):\n",
        "    # YOUR CODE HERE\n",
        "    img, lbl = tf.cast(features['image'], tf.float32) / 255.0, features['label']\n",
        "    img = tf.image.resize(img, size = (224, 224))\n",
        "    return img, lbl"
      ],
      "execution_count": 3,
      "outputs": []
    },
    {
      "cell_type": "markdown",
      "metadata": {
        "id": "Q8kPFquNKNHM",
        "colab_type": "text"
      },
      "source": [
        "* 데이터를 image, label로 나누는 함수를 정의하였습니다.\n",
        "* image 데이터를 0~1사이 값으로 정규화하였습니다.\n",
        "* image 데이터 크기를 (224,224)으로 통일하였습니다."
      ]
    },
    {
      "cell_type": "code",
      "metadata": {
        "id": "AstIC3-PA7y8",
        "colab_type": "code",
        "colab": {}
      },
      "source": [
        "batch_size = 32\n",
        "total_size = info.splits['train'].num_examples\n",
        "validation_steps= (total_size *0.2) // batch_size +1\n",
        "steps_per_epoch= (total_size * 0.8) // batch_size +1\n",
        "\n",
        "\n",
        "train_data = train_dataset.map(preprocess).batch(batch_size).repeat()\n",
        "valid_data = valid_dataset.map(preprocess).batch(batch_size).repeat()"
      ],
      "execution_count": 4,
      "outputs": []
    },
    {
      "cell_type": "markdown",
      "metadata": {
        "id": "wjI57nT5KSW8",
        "colab_type": "text"
      },
      "source": [
        "* 데이터 전처리 함수를 적용하고 배치 사이즈만큼 학습을 할 수 있도록 하였습니다."
      ]
    },
    {
      "cell_type": "markdown",
      "metadata": {
        "id": "IHz9bRcdA75D",
        "colab_type": "text"
      },
      "source": [
        "## CNN 모델 생성"
      ]
    },
    {
      "cell_type": "code",
      "metadata": {
        "id": "cdPr_BQSA77y",
        "colab_type": "code",
        "colab": {
          "base_uri": "https://localhost:8080/",
          "height": 612
        },
        "outputId": "02b4b0ad-3a69-495f-eabf-2f4278cb379c"
      },
      "source": [
        "model = Sequential([\n",
        "                    Conv2D(128, (3,3), input_shape = (224,224,3), activation = 'relu'),# 222 x 222 x 3 x 128\n",
        "                    MaxPooling2D(), # 111 x 111 x 3 x 128\n",
        "\n",
        "                    Conv2D(64, (3,3), activation = 'relu'), # 109 x 109 x 3 x 64\n",
        "                    MaxPooling2D(), # 54 x 54 x 3 x 64\n",
        "\n",
        "                    Conv2D(32, (3,3), activation = 'relu'), # 52 x 52 x 3 x 32\n",
        "                    MaxPooling2D(), # 26 x 26 x 3 x 32\n",
        "\n",
        "                    Conv2D(16, (3,3), activation = 'relu'), # 24 x 24 x 3 x 16\n",
        "                    MaxPooling2D(), # 12 x 12 x 3 x 16\n",
        "\n",
        "                    Flatten(),\n",
        "                    Dropout(0.5),\n",
        "\n",
        "                    Dense(64, activation = 'relu'),\n",
        "                    Dense(32, activation = 'relu'),\n",
        "                    Dense(2, activation='softmax')\n",
        "])\n",
        "\n",
        "print(model.summary())"
      ],
      "execution_count": 5,
      "outputs": [
        {
          "output_type": "stream",
          "text": [
            "Model: \"sequential\"\n",
            "_________________________________________________________________\n",
            "Layer (type)                 Output Shape              Param #   \n",
            "=================================================================\n",
            "conv2d (Conv2D)              (None, 222, 222, 128)     3584      \n",
            "_________________________________________________________________\n",
            "max_pooling2d (MaxPooling2D) (None, 111, 111, 128)     0         \n",
            "_________________________________________________________________\n",
            "conv2d_1 (Conv2D)            (None, 109, 109, 64)      73792     \n",
            "_________________________________________________________________\n",
            "max_pooling2d_1 (MaxPooling2 (None, 54, 54, 64)        0         \n",
            "_________________________________________________________________\n",
            "conv2d_2 (Conv2D)            (None, 52, 52, 32)        18464     \n",
            "_________________________________________________________________\n",
            "max_pooling2d_2 (MaxPooling2 (None, 26, 26, 32)        0         \n",
            "_________________________________________________________________\n",
            "conv2d_3 (Conv2D)            (None, 24, 24, 16)        4624      \n",
            "_________________________________________________________________\n",
            "max_pooling2d_3 (MaxPooling2 (None, 12, 12, 16)        0         \n",
            "_________________________________________________________________\n",
            "flatten (Flatten)            (None, 2304)              0         \n",
            "_________________________________________________________________\n",
            "dropout (Dropout)            (None, 2304)              0         \n",
            "_________________________________________________________________\n",
            "dense (Dense)                (None, 64)                147520    \n",
            "_________________________________________________________________\n",
            "dense_1 (Dense)              (None, 32)                2080      \n",
            "_________________________________________________________________\n",
            "dense_2 (Dense)              (None, 2)                 66        \n",
            "=================================================================\n",
            "Total params: 250,130\n",
            "Trainable params: 250,130\n",
            "Non-trainable params: 0\n",
            "_________________________________________________________________\n",
            "None\n"
          ],
          "name": "stdout"
        }
      ]
    },
    {
      "cell_type": "code",
      "metadata": {
        "id": "ghCPORHXBHy1",
        "colab_type": "code",
        "colab": {}
      },
      "source": [
        "# early_stopper\n",
        "#early_stopper = tf.keras.callbacks.EarlyStopping(monitor='val_loss',patience=10, verbose = 1)\n",
        "\n",
        "#optimizer = tf.keras.optimizers.RMSprop(0.001)"
      ],
      "execution_count": 6,
      "outputs": []
    },
    {
      "cell_type": "code",
      "metadata": {
        "id": "E4OLAuLlBH3u",
        "colab_type": "code",
        "colab": {}
      },
      "source": [
        "# 모델 compile\n",
        "model.compile(optimizer='adam', loss='sparse_categorical_crossentropy', metrics='acc')\n",
        "\n",
        "\n",
        "reduce_lr = tf.keras.callbacks.ReduceLROnPlateau(monitor='val_loss', # 검증 손실을 기준으로 callback이 호출\n",
        "                                                  factor=0.5, # callback 호출시 학습률을 1/2로 줄임.\n",
        "                                                  patience=3, # epoch 10 동안 개선되지 않으면 callback이 호출\n",
        "                                                  min_lr=0.000001)\n",
        "\n",
        "# 모델 체크포인트\n",
        "check_path = 'ck.ckpt'\n",
        "check_point = ModelCheckpoint(filepath = check_path,\n",
        "                              monitor='val_loss', \n",
        "                              save_best_only=True, \n",
        "                              save_weights_only=True, \n",
        "                              verbose = 1)"
      ],
      "execution_count": 7,
      "outputs": []
    },
    {
      "cell_type": "markdown",
      "metadata": {
        "id": "Oip2WBDUBH8I",
        "colab_type": "text"
      },
      "source": [
        "## 모델 학습"
      ]
    },
    {
      "cell_type": "code",
      "metadata": {
        "id": "ttkXLxl1BH_0",
        "colab_type": "code",
        "colab": {
          "base_uri": "https://localhost:8080/",
          "height": 1000
        },
        "outputId": "05d5f10c-520f-48ca-d247-7e67f70f56ea"
      },
      "source": [
        "\n",
        "# 모델 학습\n",
        "model.fit(train_data,\n",
        "          validation_data = (valid_data),\n",
        "          steps_per_epoch = steps_per_epoch,\n",
        "          validation_steps = validation_steps,\n",
        "          epochs = 40,\n",
        "          callbacks=[check_point,reduce_lr]\n",
        ")"
      ],
      "execution_count": 8,
      "outputs": [
        {
          "output_type": "stream",
          "text": [
            "Epoch 1/40\n",
            "  2/582 [..............................] - ETA: 16s - loss: 0.6959 - acc: 0.5781WARNING:tensorflow:Callbacks method `on_train_batch_end` is slow compared to the batch time (batch time: 0.0227s vs `on_train_batch_end` time: 0.0395s). Check your callbacks.\n"
          ],
          "name": "stdout"
        },
        {
          "output_type": "stream",
          "text": [
            "WARNING:tensorflow:Callbacks method `on_train_batch_end` is slow compared to the batch time (batch time: 0.0227s vs `on_train_batch_end` time: 0.0395s). Check your callbacks.\n"
          ],
          "name": "stderr"
        },
        {
          "output_type": "stream",
          "text": [
            "582/582 [==============================] - ETA: 0s - loss: 0.6683 - acc: 0.5884\n",
            "Epoch 00001: val_loss improved from inf to 0.62140, saving model to ck.ckpt\n",
            "582/582 [==============================] - 41s 71ms/step - loss: 0.6683 - acc: 0.5884 - val_loss: 0.6214 - val_acc: 0.6696\n",
            "Epoch 2/40\n",
            "582/582 [==============================] - ETA: 0s - loss: 0.5952 - acc: 0.6814\n",
            "Epoch 00002: val_loss improved from 0.62140 to 0.57066, saving model to ck.ckpt\n",
            "582/582 [==============================] - 43s 74ms/step - loss: 0.5952 - acc: 0.6814 - val_loss: 0.5707 - val_acc: 0.7266\n",
            "Epoch 3/40\n",
            "581/582 [============================>.] - ETA: 0s - loss: 0.5289 - acc: 0.7387\n",
            "Epoch 00003: val_loss improved from 0.57066 to 0.48910, saving model to ck.ckpt\n",
            "582/582 [==============================] - 43s 73ms/step - loss: 0.5288 - acc: 0.7387 - val_loss: 0.4891 - val_acc: 0.7633\n",
            "Epoch 4/40\n",
            "582/582 [==============================] - ETA: 0s - loss: 0.4668 - acc: 0.7785\n",
            "Epoch 00004: val_loss improved from 0.48910 to 0.47053, saving model to ck.ckpt\n",
            "582/582 [==============================] - 41s 71ms/step - loss: 0.4668 - acc: 0.7785 - val_loss: 0.4705 - val_acc: 0.7805\n",
            "Epoch 5/40\n",
            "581/582 [============================>.] - ETA: 0s - loss: 0.4220 - acc: 0.8040\n",
            "Epoch 00005: val_loss improved from 0.47053 to 0.43014, saving model to ck.ckpt\n",
            "582/582 [==============================] - 43s 74ms/step - loss: 0.4220 - acc: 0.8040 - val_loss: 0.4301 - val_acc: 0.8031\n",
            "Epoch 6/40\n",
            "582/582 [==============================] - ETA: 0s - loss: 0.3852 - acc: 0.8249\n",
            "Epoch 00006: val_loss improved from 0.43014 to 0.39063, saving model to ck.ckpt\n",
            "582/582 [==============================] - 43s 73ms/step - loss: 0.3852 - acc: 0.8249 - val_loss: 0.3906 - val_acc: 0.8267\n",
            "Epoch 7/40\n",
            "582/582 [==============================] - ETA: 0s - loss: 0.3580 - acc: 0.8425\n",
            "Epoch 00007: val_loss did not improve from 0.39063\n",
            "582/582 [==============================] - 41s 71ms/step - loss: 0.3580 - acc: 0.8425 - val_loss: 0.3938 - val_acc: 0.8252\n",
            "Epoch 8/40\n",
            "582/582 [==============================] - ETA: 0s - loss: 0.3388 - acc: 0.8511\n",
            "Epoch 00008: val_loss did not improve from 0.39063\n",
            "582/582 [==============================] - 42s 72ms/step - loss: 0.3388 - acc: 0.8511 - val_loss: 0.4067 - val_acc: 0.8175\n",
            "Epoch 9/40\n",
            "582/582 [==============================] - ETA: 0s - loss: 0.3185 - acc: 0.8618\n",
            "Epoch 00009: val_loss improved from 0.39063 to 0.35590, saving model to ck.ckpt\n",
            "582/582 [==============================] - 43s 74ms/step - loss: 0.3185 - acc: 0.8618 - val_loss: 0.3559 - val_acc: 0.8450\n",
            "Epoch 10/40\n",
            "581/582 [============================>.] - ETA: 0s - loss: 0.2983 - acc: 0.8692\n",
            "Epoch 00010: val_loss improved from 0.35590 to 0.34761, saving model to ck.ckpt\n",
            "582/582 [==============================] - 43s 74ms/step - loss: 0.2981 - acc: 0.8694 - val_loss: 0.3476 - val_acc: 0.8543\n",
            "Epoch 11/40\n",
            "582/582 [==============================] - ETA: 0s - loss: 0.2808 - acc: 0.8809\n",
            "Epoch 00011: val_loss improved from 0.34761 to 0.33946, saving model to ck.ckpt\n",
            "582/582 [==============================] - 42s 71ms/step - loss: 0.2808 - acc: 0.8809 - val_loss: 0.3395 - val_acc: 0.8495\n",
            "Epoch 12/40\n",
            "581/582 [============================>.] - ETA: 0s - loss: 0.2629 - acc: 0.8879\n",
            "Epoch 00012: val_loss did not improve from 0.33946\n",
            "582/582 [==============================] - 43s 74ms/step - loss: 0.2627 - acc: 0.8880 - val_loss: 0.3501 - val_acc: 0.8586\n",
            "Epoch 13/40\n",
            "581/582 [============================>.] - ETA: 0s - loss: 0.2463 - acc: 0.8964\n",
            "Epoch 00013: val_loss did not improve from 0.33946\n",
            "582/582 [==============================] - 43s 74ms/step - loss: 0.2462 - acc: 0.8963 - val_loss: 0.3473 - val_acc: 0.8607\n",
            "Epoch 14/40\n",
            "581/582 [============================>.] - ETA: 0s - loss: 0.2373 - acc: 0.9002\n",
            "Epoch 00014: val_loss improved from 0.33946 to 0.33244, saving model to ck.ckpt\n",
            "582/582 [==============================] - 41s 71ms/step - loss: 0.2371 - acc: 0.9003 - val_loss: 0.3324 - val_acc: 0.8605\n",
            "Epoch 15/40\n",
            "581/582 [============================>.] - ETA: 0s - loss: 0.2207 - acc: 0.9081\n",
            "Epoch 00015: val_loss did not improve from 0.33244\n",
            "582/582 [==============================] - 42s 72ms/step - loss: 0.2208 - acc: 0.9081 - val_loss: 0.4295 - val_acc: 0.8263\n",
            "Epoch 16/40\n",
            "581/582 [============================>.] - ETA: 0s - loss: 0.2187 - acc: 0.9084\n",
            "Epoch 00016: val_loss did not improve from 0.33244\n",
            "582/582 [==============================] - 43s 74ms/step - loss: 0.2185 - acc: 0.9085 - val_loss: 0.4178 - val_acc: 0.8313\n",
            "Epoch 17/40\n",
            "582/582 [==============================] - ETA: 0s - loss: 0.2014 - acc: 0.9158\n",
            "Epoch 00017: val_loss did not improve from 0.33244\n",
            "582/582 [==============================] - 43s 75ms/step - loss: 0.2014 - acc: 0.9158 - val_loss: 0.5125 - val_acc: 0.8126\n",
            "Epoch 18/40\n",
            "582/582 [==============================] - ETA: 0s - loss: 0.1760 - acc: 0.9272\n",
            "Epoch 00018: val_loss did not improve from 0.33244\n",
            "582/582 [==============================] - 42s 72ms/step - loss: 0.1760 - acc: 0.9272 - val_loss: 0.3411 - val_acc: 0.8639\n",
            "Epoch 19/40\n",
            "581/582 [============================>.] - ETA: 0s - loss: 0.1581 - acc: 0.9335\n",
            "Epoch 00019: val_loss did not improve from 0.33244\n",
            "582/582 [==============================] - 43s 73ms/step - loss: 0.1580 - acc: 0.9335 - val_loss: 0.3689 - val_acc: 0.8579\n",
            "Epoch 20/40\n",
            "581/582 [============================>.] - ETA: 0s - loss: 0.1497 - acc: 0.9393\n",
            "Epoch 00020: val_loss did not improve from 0.33244\n",
            "582/582 [==============================] - 43s 75ms/step - loss: 0.1496 - acc: 0.9393 - val_loss: 0.3756 - val_acc: 0.8577\n",
            "Epoch 21/40\n",
            "582/582 [==============================] - ETA: 0s - loss: 0.1338 - acc: 0.9457\n",
            "Epoch 00021: val_loss did not improve from 0.33244\n",
            "582/582 [==============================] - 41s 71ms/step - loss: 0.1338 - acc: 0.9457 - val_loss: 0.3886 - val_acc: 0.8613\n",
            "Epoch 22/40\n",
            "582/582 [==============================] - ETA: 0s - loss: 0.1301 - acc: 0.9478\n",
            "Epoch 00022: val_loss did not improve from 0.33244\n",
            "582/582 [==============================] - 43s 73ms/step - loss: 0.1301 - acc: 0.9478 - val_loss: 0.4011 - val_acc: 0.8558\n",
            "Epoch 23/40\n",
            "582/582 [==============================] - ETA: 0s - loss: 0.1226 - acc: 0.9507\n",
            "Epoch 00023: val_loss did not improve from 0.33244\n",
            "582/582 [==============================] - 44s 75ms/step - loss: 0.1226 - acc: 0.9507 - val_loss: 0.3751 - val_acc: 0.8648\n",
            "Epoch 24/40\n",
            "581/582 [============================>.] - ETA: 0s - loss: 0.1136 - acc: 0.9550\n",
            "Epoch 00024: val_loss did not improve from 0.33244\n",
            "582/582 [==============================] - 43s 75ms/step - loss: 0.1136 - acc: 0.9550 - val_loss: 0.3613 - val_acc: 0.8715\n",
            "Epoch 25/40\n",
            "582/582 [==============================] - ETA: 0s - loss: 0.1113 - acc: 0.9558\n",
            "Epoch 00025: val_loss did not improve from 0.33244\n",
            "582/582 [==============================] - 42s 71ms/step - loss: 0.1113 - acc: 0.9558 - val_loss: 0.3671 - val_acc: 0.8738\n",
            "Epoch 26/40\n",
            "581/582 [============================>.] - ETA: 0s - loss: 0.1058 - acc: 0.9589\n",
            "Epoch 00026: val_loss did not improve from 0.33244\n",
            "582/582 [==============================] - 43s 73ms/step - loss: 0.1057 - acc: 0.9589 - val_loss: 0.3644 - val_acc: 0.8738\n",
            "Epoch 27/40\n",
            "582/582 [==============================] - ETA: 0s - loss: 0.1033 - acc: 0.9595\n",
            "Epoch 00027: val_loss did not improve from 0.33244\n",
            "582/582 [==============================] - 43s 74ms/step - loss: 0.1033 - acc: 0.9595 - val_loss: 0.3597 - val_acc: 0.8745\n",
            "Epoch 28/40\n",
            "581/582 [============================>.] - ETA: 0s - loss: 0.1014 - acc: 0.9600\n",
            "Epoch 00028: val_loss did not improve from 0.33244\n",
            "582/582 [==============================] - 42s 72ms/step - loss: 0.1014 - acc: 0.9601 - val_loss: 0.3663 - val_acc: 0.8732\n",
            "Epoch 29/40\n",
            "581/582 [============================>.] - ETA: 0s - loss: 0.1045 - acc: 0.9596\n",
            "Epoch 00029: val_loss did not improve from 0.33244\n",
            "582/582 [==============================] - 43s 73ms/step - loss: 0.1044 - acc: 0.9596 - val_loss: 0.3609 - val_acc: 0.8747\n",
            "Epoch 30/40\n",
            "581/582 [============================>.] - ETA: 0s - loss: 0.0966 - acc: 0.9630\n",
            "Epoch 00030: val_loss did not improve from 0.33244\n",
            "582/582 [==============================] - 43s 74ms/step - loss: 0.0965 - acc: 0.9630 - val_loss: 0.3634 - val_acc: 0.8732\n",
            "Epoch 31/40\n",
            "582/582 [==============================] - ETA: 0s - loss: 0.0984 - acc: 0.9607\n",
            "Epoch 00031: val_loss did not improve from 0.33244\n",
            "582/582 [==============================] - 43s 74ms/step - loss: 0.0984 - acc: 0.9607 - val_loss: 0.3640 - val_acc: 0.8758\n",
            "Epoch 32/40\n",
            "582/582 [==============================] - ETA: 0s - loss: 0.0937 - acc: 0.9630\n",
            "Epoch 00032: val_loss did not improve from 0.33244\n",
            "582/582 [==============================] - 43s 73ms/step - loss: 0.0937 - acc: 0.9630 - val_loss: 0.3655 - val_acc: 0.8753\n",
            "Epoch 33/40\n",
            "582/582 [==============================] - ETA: 0s - loss: 0.0951 - acc: 0.9617\n",
            "Epoch 00033: val_loss did not improve from 0.33244\n",
            "582/582 [==============================] - 43s 74ms/step - loss: 0.0951 - acc: 0.9617 - val_loss: 0.3681 - val_acc: 0.8738\n",
            "Epoch 34/40\n",
            "582/582 [==============================] - ETA: 0s - loss: 0.1011 - acc: 0.9598\n",
            "Epoch 00034: val_loss did not improve from 0.33244\n",
            "582/582 [==============================] - 44s 75ms/step - loss: 0.1011 - acc: 0.9598 - val_loss: 0.3647 - val_acc: 0.8760\n",
            "Epoch 35/40\n",
            "581/582 [============================>.] - ETA: 0s - loss: 0.0936 - acc: 0.9616\n",
            "Epoch 00035: val_loss did not improve from 0.33244\n",
            "582/582 [==============================] - 42s 72ms/step - loss: 0.0935 - acc: 0.9616 - val_loss: 0.3664 - val_acc: 0.8753\n",
            "Epoch 36/40\n",
            "582/582 [==============================] - ETA: 0s - loss: 0.0952 - acc: 0.9624\n",
            "Epoch 00036: val_loss did not improve from 0.33244\n",
            "582/582 [==============================] - 42s 73ms/step - loss: 0.0952 - acc: 0.9624 - val_loss: 0.3640 - val_acc: 0.8755\n",
            "Epoch 37/40\n",
            "582/582 [==============================] - ETA: 0s - loss: 0.0958 - acc: 0.9637\n",
            "Epoch 00037: val_loss did not improve from 0.33244\n",
            "582/582 [==============================] - 44s 75ms/step - loss: 0.0958 - acc: 0.9637 - val_loss: 0.3645 - val_acc: 0.8755\n",
            "Epoch 38/40\n",
            "582/582 [==============================] - ETA: 0s - loss: 0.0925 - acc: 0.9623\n",
            "Epoch 00038: val_loss did not improve from 0.33244\n",
            "582/582 [==============================] - 43s 74ms/step - loss: 0.0925 - acc: 0.9623 - val_loss: 0.3641 - val_acc: 0.8751\n",
            "Epoch 39/40\n",
            "581/582 [============================>.] - ETA: 0s - loss: 0.0924 - acc: 0.9640\n",
            "Epoch 00039: val_loss did not improve from 0.33244\n",
            "582/582 [==============================] - 43s 73ms/step - loss: 0.0923 - acc: 0.9640 - val_loss: 0.3640 - val_acc: 0.8753\n",
            "Epoch 40/40\n",
            "581/582 [============================>.] - ETA: 0s - loss: 0.0949 - acc: 0.9625\n",
            "Epoch 00040: val_loss did not improve from 0.33244\n",
            "582/582 [==============================] - 43s 73ms/step - loss: 0.0948 - acc: 0.9624 - val_loss: 0.3654 - val_acc: 0.8740\n"
          ],
          "name": "stdout"
        },
        {
          "output_type": "execute_result",
          "data": {
            "text/plain": [
              "<tensorflow.python.keras.callbacks.History at 0x7f01269a29b0>"
            ]
          },
          "metadata": {
            "tags": []
          },
          "execution_count": 8
        }
      ]
    },
    {
      "cell_type": "code",
      "metadata": {
        "id": "zr4pGHnZBVBy",
        "colab_type": "code",
        "colab": {
          "base_uri": "https://localhost:8080/",
          "height": 34
        },
        "outputId": "778e9fc9-61b7-4b19-b1a0-949229f92e80"
      },
      "source": [
        "# 모델 load\n",
        "model.load_weights(check_path)"
      ],
      "execution_count": 9,
      "outputs": [
        {
          "output_type": "execute_result",
          "data": {
            "text/plain": [
              "<tensorflow.python.training.tracking.util.CheckpointLoadStatus at 0x7f0126e60208>"
            ]
          },
          "metadata": {
            "tags": []
          },
          "execution_count": 9
        }
      ]
    },
    {
      "cell_type": "markdown",
      "metadata": {
        "id": "HYhzW762KXBA",
        "colab_type": "text"
      },
      "source": [
        "* 성능이 가장 좋았던 weigth를 로드하고 모델을 저장합니다. "
      ]
    }
  ]
}