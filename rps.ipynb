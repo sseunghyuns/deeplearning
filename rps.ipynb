{
  "nbformat": 4,
  "nbformat_minor": 0,
  "metadata": {
    "colab": {
      "name": "rps.ipynb",
      "provenance": [],
      "authorship_tag": "ABX9TyOgS8vKI95ZlIegMwQehxCH",
      "include_colab_link": true
    },
    "kernelspec": {
      "name": "python3",
      "display_name": "Python 3"
    },
    "accelerator": "GPU"
  },
  "cells": [
    {
      "cell_type": "markdown",
      "metadata": {
        "id": "view-in-github",
        "colab_type": "text"
      },
      "source": [
        "<a href=\"https://colab.research.google.com/github/sseunghyuns/deeplearning/blob/master/rps.ipynb\" target=\"_parent\"><img src=\"https://colab.research.google.com/assets/colab-badge.svg\" alt=\"Open In Colab\"/></a>"
      ]
    },
    {
      "cell_type": "markdown",
      "metadata": {
        "id": "vE0jm8Ts8msK",
        "colab_type": "text"
      },
      "source": [
        "# Computer Vision with CNNs"
      ]
    },
    {
      "cell_type": "code",
      "metadata": {
        "id": "ayUF6wO98r_f",
        "colab_type": "code",
        "colab": {}
      },
      "source": [
        "import urllib.request\n",
        "import zipfile\n",
        "import tensorflow as tf\n",
        "from keras_preprocessing.image import ImageDataGenerator\n",
        "from tensorflow.keras.models import Sequential\n",
        "from tensorflow.keras.layers import Dense, Conv2D, MaxPooling2D, Flatten, Dropout\n",
        "from tensorflow.keras.callbacks import ModelCheckpoint"
      ],
      "execution_count": 1,
      "outputs": []
    },
    {
      "cell_type": "code",
      "metadata": {
        "id": "0YoVFppu8wV2",
        "colab_type": "code",
        "colab": {}
      },
      "source": [
        "url = 'https://storage.googleapis.com/download.tensorflow.org/data/rps.zip'\n",
        "urllib.request.urlretrieve(url, 'rps.zip')\n",
        "local_zip = 'rps.zip'\n",
        "zip_ref = zipfile.ZipFile(local_zip, 'r')\n",
        "zip_ref.extractall('tmp/')\n",
        "zip_ref.close()"
      ],
      "execution_count": 2,
      "outputs": []
    },
    {
      "cell_type": "code",
      "metadata": {
        "id": "I3ZPQm8V8zAO",
        "colab_type": "code",
        "colab": {}
      },
      "source": [
        "TRAINING_DIR = \"tmp/rps/\""
      ],
      "execution_count": 3,
      "outputs": []
    },
    {
      "cell_type": "markdown",
      "metadata": {
        "id": "zNNDFRdS81i1",
        "colab_type": "text"
      },
      "source": [
        "## 데이터 처리\n",
        "* 정규화 및 데이터 augmentation"
      ]
    },
    {
      "cell_type": "code",
      "metadata": {
        "id": "kQGbfEsM81oo",
        "colab_type": "code",
        "colab": {}
      },
      "source": [
        "training_datagen = ImageDataGenerator(\n",
        "    rescale = 1.0 / 255.0,\n",
        "    # rotation_range = 40,\n",
        "    # width_shift_range = 0.2,\n",
        "    # height_shift_range = 0.2,\n",
        "    # shear_range = 0.2,\n",
        "    # zoom_range = 0.2,\n",
        "    # horizontal_flip = True,\n",
        "    # fill_mode = 'nearest',\n",
        "    validation_split = 0.2\n",
        ")"
      ],
      "execution_count": 4,
      "outputs": []
    },
    {
      "cell_type": "code",
      "metadata": {
        "id": "zArsR5AN81sU",
        "colab_type": "code",
        "colab": {
          "base_uri": "https://localhost:8080/",
          "height": 51
        },
        "outputId": "7a4ff527-ce0c-4686-b685-2e1f046efe4b"
      },
      "source": [
        "# flow_from_directory\n",
        "training_gen = training_datagen.flow_from_directory(\n",
        "    TRAINING_DIR,\n",
        "    batch_size = 128,\n",
        "    target_size = (150,150),\n",
        "    class_mode = 'categorical',\n",
        "    subset = 'training'\n",
        ")\n",
        "\n",
        "validation_gen = training_datagen.flow_from_directory(\n",
        "    TRAINING_DIR,\n",
        "    batch_size = 128,\n",
        "    target_size = (150,150),\n",
        "    class_mode = 'categorical',\n",
        "    subset = 'validation'\n",
        ")"
      ],
      "execution_count": 5,
      "outputs": [
        {
          "output_type": "stream",
          "text": [
            "Found 2016 images belonging to 3 classes.\n",
            "Found 504 images belonging to 3 classes.\n"
          ],
          "name": "stdout"
        }
      ]
    },
    {
      "cell_type": "markdown",
      "metadata": {
        "id": "6Pvr5BO69GMW",
        "colab_type": "text"
      },
      "source": [
        "## CNN 모델 생성"
      ]
    },
    {
      "cell_type": "code",
      "metadata": {
        "id": "v8lhHBhI81v1",
        "colab_type": "code",
        "colab": {
          "base_uri": "https://localhost:8080/",
          "height": 578
        },
        "outputId": "d7861553-f3d9-4f46-ab0d-1f17ccabda8f"
      },
      "source": [
        "# 모델 생성\n",
        "model = tf.keras.models.Sequential([\n",
        "    tf.keras.layers.Conv2D(32, (3, 3), activation='relu', input_shape=(150, 150, 3)), # 148 x 148 x 32 x 3\n",
        "    tf.keras.layers.MaxPooling2D(2, 2), # 74 x 74 x 32 x 3\n",
        "\n",
        "    tf.keras.layers.Conv2D(32, (3, 3), activation='relu'), # 72 x 72 x 32 x 3\n",
        "    tf.keras.layers.MaxPooling2D(2, 2), # 36 x 36 x 32 x 3\n",
        "\n",
        "    tf.keras.layers.Conv2D(16, (3, 3), activation='relu'), # 34 x 34 x 16 x 3\n",
        "    tf.keras.layers.MaxPooling2D(2, 2), # 17 x 17 x 16 x 3\n",
        "\n",
        "    tf.keras.layers.Conv2D(16, (3, 3), activation='relu'), #15 x 15 x 16 x 3\n",
        "    tf.keras.layers.MaxPooling2D(2, 2), # 7  x 7 x 16 x 3\n",
        "\n",
        "    tf.keras.layers.Flatten(),\n",
        "    tf.keras.layers.Dropout(0.5),\n",
        "    tf.keras.layers.Dense(128, activation='relu'),\n",
        "    # YOUR CODE HERE, BUT END WITH A 3 Neuron Dense, activated by softmax\n",
        "    tf.keras.layers.Dense(3, activation='softmax') # 3개의 label로 나뉘어져야 한다. \n",
        "])\n",
        "print(model.summary())"
      ],
      "execution_count": 6,
      "outputs": [
        {
          "output_type": "stream",
          "text": [
            "Model: \"sequential\"\n",
            "_________________________________________________________________\n",
            "Layer (type)                 Output Shape              Param #   \n",
            "=================================================================\n",
            "conv2d (Conv2D)              (None, 148, 148, 32)      896       \n",
            "_________________________________________________________________\n",
            "max_pooling2d (MaxPooling2D) (None, 74, 74, 32)        0         \n",
            "_________________________________________________________________\n",
            "conv2d_1 (Conv2D)            (None, 72, 72, 32)        9248      \n",
            "_________________________________________________________________\n",
            "max_pooling2d_1 (MaxPooling2 (None, 36, 36, 32)        0         \n",
            "_________________________________________________________________\n",
            "conv2d_2 (Conv2D)            (None, 34, 34, 16)        4624      \n",
            "_________________________________________________________________\n",
            "max_pooling2d_2 (MaxPooling2 (None, 17, 17, 16)        0         \n",
            "_________________________________________________________________\n",
            "conv2d_3 (Conv2D)            (None, 15, 15, 16)        2320      \n",
            "_________________________________________________________________\n",
            "max_pooling2d_3 (MaxPooling2 (None, 7, 7, 16)          0         \n",
            "_________________________________________________________________\n",
            "flatten (Flatten)            (None, 784)               0         \n",
            "_________________________________________________________________\n",
            "dropout (Dropout)            (None, 784)               0         \n",
            "_________________________________________________________________\n",
            "dense (Dense)                (None, 128)               100480    \n",
            "_________________________________________________________________\n",
            "dense_1 (Dense)              (None, 3)                 387       \n",
            "=================================================================\n",
            "Total params: 117,955\n",
            "Trainable params: 117,955\n",
            "Non-trainable params: 0\n",
            "_________________________________________________________________\n",
            "None\n"
          ],
          "name": "stdout"
        }
      ]
    },
    {
      "cell_type": "code",
      "metadata": {
        "id": "p9ZnCu6281za",
        "colab_type": "code",
        "colab": {}
      },
      "source": [
        "# 모델 compile\n",
        "model.compile(optimizer = 'adam', loss = 'categorical_crossentropy', metrics = ['acc'])\n",
        "\n",
        "# 모델 checkpoint\n",
        "check_path = 'ck.ckpt'\n",
        "checkpoint = ModelCheckpoint(\n",
        "    filepath = check_path,\n",
        "    save_best_only = True,\n",
        "    save_weights_only = True,\n",
        "    monitor = 'val_loss',\n",
        "    verbose =1\n",
        ")"
      ],
      "execution_count": 7,
      "outputs": []
    },
    {
      "cell_type": "code",
      "metadata": {
        "id": "_WLFIyAY9KpI",
        "colab_type": "code",
        "colab": {
          "base_uri": "https://localhost:8080/",
          "height": 1000
        },
        "outputId": "fc4c08dc-8e5e-42f5-d91d-17fc550d78a4"
      },
      "source": [
        "# 모델 학습\n",
        "model.fit(training_gen,\n",
        "          validation_data = (validation_gen),\n",
        "          epochs = 30,\n",
        "          steps_per_epoch = len(training_gen),\n",
        "          validation_steps = len(validation_gen),\n",
        "          callbacks = [checkpoint])\n",
        "\n",
        "\n",
        "model.load_weights(check_path)"
      ],
      "execution_count": 8,
      "outputs": [
        {
          "output_type": "stream",
          "text": [
            "Epoch 1/30\n",
            "16/16 [==============================] - ETA: 0s - loss: 1.0152 - acc: 0.4965\n",
            "Epoch 00001: val_loss improved from inf to 0.74407, saving model to ck.ckpt\n",
            "16/16 [==============================] - 7s 458ms/step - loss: 1.0152 - acc: 0.4965 - val_loss: 0.7441 - val_acc: 0.7063\n",
            "Epoch 2/30\n",
            "16/16 [==============================] - ETA: 0s - loss: 0.5051 - acc: 0.8199\n",
            "Epoch 00002: val_loss improved from 0.74407 to 0.42504, saving model to ck.ckpt\n",
            "16/16 [==============================] - 7s 452ms/step - loss: 0.5051 - acc: 0.8199 - val_loss: 0.4250 - val_acc: 0.7679\n",
            "Epoch 3/30\n",
            "16/16 [==============================] - ETA: 0s - loss: 0.1607 - acc: 0.9474\n",
            "Epoch 00003: val_loss improved from 0.42504 to 0.28899, saving model to ck.ckpt\n",
            "16/16 [==============================] - 7s 448ms/step - loss: 0.1607 - acc: 0.9474 - val_loss: 0.2890 - val_acc: 0.8452\n",
            "Epoch 4/30\n",
            "16/16 [==============================] - ETA: 0s - loss: 0.0564 - acc: 0.9821\n",
            "Epoch 00004: val_loss did not improve from 0.28899\n",
            "16/16 [==============================] - 7s 447ms/step - loss: 0.0564 - acc: 0.9821 - val_loss: 0.4524 - val_acc: 0.7738\n",
            "Epoch 5/30\n",
            "16/16 [==============================] - ETA: 0s - loss: 0.0322 - acc: 0.9901\n",
            "Epoch 00005: val_loss did not improve from 0.28899\n",
            "16/16 [==============================] - 7s 455ms/step - loss: 0.0322 - acc: 0.9901 - val_loss: 0.4209 - val_acc: 0.8175\n",
            "Epoch 6/30\n",
            "16/16 [==============================] - ETA: 0s - loss: 0.0225 - acc: 0.9940\n",
            "Epoch 00006: val_loss did not improve from 0.28899\n",
            "16/16 [==============================] - 7s 450ms/step - loss: 0.0225 - acc: 0.9940 - val_loss: 0.3899 - val_acc: 0.8413\n",
            "Epoch 7/30\n",
            "16/16 [==============================] - ETA: 0s - loss: 0.0143 - acc: 0.9955\n",
            "Epoch 00007: val_loss did not improve from 0.28899\n",
            "16/16 [==============================] - 7s 447ms/step - loss: 0.0143 - acc: 0.9955 - val_loss: 0.2918 - val_acc: 0.8433\n",
            "Epoch 8/30\n",
            "16/16 [==============================] - ETA: 0s - loss: 0.0094 - acc: 0.9975\n",
            "Epoch 00008: val_loss did not improve from 0.28899\n",
            "16/16 [==============================] - 7s 447ms/step - loss: 0.0094 - acc: 0.9975 - val_loss: 0.3270 - val_acc: 0.8492\n",
            "Epoch 9/30\n",
            "16/16 [==============================] - ETA: 0s - loss: 0.0076 - acc: 0.9985\n",
            "Epoch 00009: val_loss improved from 0.28899 to 0.24564, saving model to ck.ckpt\n",
            "16/16 [==============================] - 7s 450ms/step - loss: 0.0076 - acc: 0.9985 - val_loss: 0.2456 - val_acc: 0.8671\n",
            "Epoch 10/30\n",
            "16/16 [==============================] - ETA: 0s - loss: 0.0089 - acc: 0.9970\n",
            "Epoch 00010: val_loss did not improve from 0.24564\n",
            "16/16 [==============================] - 7s 444ms/step - loss: 0.0089 - acc: 0.9970 - val_loss: 0.2941 - val_acc: 0.8532\n",
            "Epoch 11/30\n",
            "16/16 [==============================] - ETA: 0s - loss: 0.0097 - acc: 0.9975\n",
            "Epoch 00011: val_loss did not improve from 0.24564\n",
            "16/16 [==============================] - 7s 448ms/step - loss: 0.0097 - acc: 0.9975 - val_loss: 0.4654 - val_acc: 0.8075\n",
            "Epoch 12/30\n",
            "16/16 [==============================] - ETA: 0s - loss: 0.0054 - acc: 0.9985\n",
            "Epoch 00012: val_loss did not improve from 0.24564\n",
            "16/16 [==============================] - 7s 446ms/step - loss: 0.0054 - acc: 0.9985 - val_loss: 0.3629 - val_acc: 0.8333\n",
            "Epoch 13/30\n",
            "16/16 [==============================] - ETA: 0s - loss: 0.0019 - acc: 0.9995\n",
            "Epoch 00013: val_loss did not improve from 0.24564\n",
            "16/16 [==============================] - 7s 446ms/step - loss: 0.0019 - acc: 0.9995 - val_loss: 0.4739 - val_acc: 0.8472\n",
            "Epoch 14/30\n",
            "16/16 [==============================] - ETA: 0s - loss: 0.0033 - acc: 0.9995\n",
            "Epoch 00014: val_loss did not improve from 0.24564\n",
            "16/16 [==============================] - 7s 447ms/step - loss: 0.0033 - acc: 0.9995 - val_loss: 0.5037 - val_acc: 0.8353\n",
            "Epoch 15/30\n",
            "16/16 [==============================] - ETA: 0s - loss: 0.0041 - acc: 0.9985\n",
            "Epoch 00015: val_loss did not improve from 0.24564\n",
            "16/16 [==============================] - 7s 448ms/step - loss: 0.0041 - acc: 0.9985 - val_loss: 0.2597 - val_acc: 0.8651\n",
            "Epoch 16/30\n",
            "16/16 [==============================] - ETA: 0s - loss: 0.0037 - acc: 0.9990\n",
            "Epoch 00016: val_loss did not improve from 0.24564\n",
            "16/16 [==============================] - 7s 452ms/step - loss: 0.0037 - acc: 0.9990 - val_loss: 0.3086 - val_acc: 0.8631\n",
            "Epoch 17/30\n",
            "16/16 [==============================] - ETA: 0s - loss: 0.0019 - acc: 0.9995\n",
            "Epoch 00017: val_loss did not improve from 0.24564\n",
            "16/16 [==============================] - 7s 442ms/step - loss: 0.0019 - acc: 0.9995 - val_loss: 0.2491 - val_acc: 0.8671\n",
            "Epoch 18/30\n",
            "16/16 [==============================] - ETA: 0s - loss: 0.0015 - acc: 1.0000\n",
            "Epoch 00018: val_loss did not improve from 0.24564\n",
            "16/16 [==============================] - 7s 448ms/step - loss: 0.0015 - acc: 1.0000 - val_loss: 0.2636 - val_acc: 0.8690\n",
            "Epoch 19/30\n",
            "16/16 [==============================] - ETA: 0s - loss: 0.0010 - acc: 1.0000\n",
            "Epoch 00019: val_loss improved from 0.24564 to 0.21044, saving model to ck.ckpt\n",
            "16/16 [==============================] - 7s 451ms/step - loss: 0.0010 - acc: 1.0000 - val_loss: 0.2104 - val_acc: 0.8730\n",
            "Epoch 20/30\n",
            "16/16 [==============================] - ETA: 0s - loss: 0.0079 - acc: 0.9985\n",
            "Epoch 00020: val_loss improved from 0.21044 to 0.14012, saving model to ck.ckpt\n",
            "16/16 [==============================] - 7s 447ms/step - loss: 0.0079 - acc: 0.9985 - val_loss: 0.1401 - val_acc: 0.9286\n",
            "Epoch 21/30\n",
            "16/16 [==============================] - ETA: 0s - loss: 0.0031 - acc: 0.9995\n",
            "Epoch 00021: val_loss did not improve from 0.14012\n",
            "16/16 [==============================] - 7s 447ms/step - loss: 0.0031 - acc: 0.9995 - val_loss: 0.3156 - val_acc: 0.8710\n",
            "Epoch 22/30\n",
            "16/16 [==============================] - ETA: 0s - loss: 0.0045 - acc: 0.9985\n",
            "Epoch 00022: val_loss did not improve from 0.14012\n",
            "16/16 [==============================] - 7s 446ms/step - loss: 0.0045 - acc: 0.9985 - val_loss: 0.3111 - val_acc: 0.8651\n",
            "Epoch 23/30\n",
            "16/16 [==============================] - ETA: 0s - loss: 0.0035 - acc: 0.9990\n",
            "Epoch 00023: val_loss improved from 0.14012 to 0.12066, saving model to ck.ckpt\n",
            "16/16 [==============================] - 7s 444ms/step - loss: 0.0035 - acc: 0.9990 - val_loss: 0.1207 - val_acc: 0.9345\n",
            "Epoch 24/30\n",
            "16/16 [==============================] - ETA: 0s - loss: 0.0055 - acc: 0.9985\n",
            "Epoch 00024: val_loss did not improve from 0.12066\n",
            "16/16 [==============================] - 7s 441ms/step - loss: 0.0055 - acc: 0.9985 - val_loss: 0.5327 - val_acc: 0.8452\n",
            "Epoch 25/30\n",
            "16/16 [==============================] - ETA: 0s - loss: 0.0050 - acc: 0.9980\n",
            "Epoch 00025: val_loss did not improve from 0.12066\n",
            "16/16 [==============================] - 7s 445ms/step - loss: 0.0050 - acc: 0.9980 - val_loss: 0.2438 - val_acc: 0.8690\n",
            "Epoch 26/30\n",
            "16/16 [==============================] - ETA: 0s - loss: 0.0035 - acc: 0.9980\n",
            "Epoch 00026: val_loss did not improve from 0.12066\n",
            "16/16 [==============================] - 7s 450ms/step - loss: 0.0035 - acc: 0.9980 - val_loss: 0.3432 - val_acc: 0.8770\n",
            "Epoch 27/30\n",
            "16/16 [==============================] - ETA: 0s - loss: 0.0025 - acc: 0.9995\n",
            "Epoch 00027: val_loss improved from 0.12066 to 0.08631, saving model to ck.ckpt\n",
            "16/16 [==============================] - 7s 448ms/step - loss: 0.0025 - acc: 0.9995 - val_loss: 0.0863 - val_acc: 0.9524\n",
            "Epoch 28/30\n",
            "16/16 [==============================] - ETA: 0s - loss: 0.0046 - acc: 0.9985\n",
            "Epoch 00028: val_loss did not improve from 0.08631\n",
            "16/16 [==============================] - 7s 437ms/step - loss: 0.0046 - acc: 0.9985 - val_loss: 0.3017 - val_acc: 0.8571\n",
            "Epoch 29/30\n",
            "16/16 [==============================] - ETA: 0s - loss: 0.0033 - acc: 0.9990\n",
            "Epoch 00029: val_loss did not improve from 0.08631\n",
            "16/16 [==============================] - 7s 436ms/step - loss: 0.0033 - acc: 0.9990 - val_loss: 0.2229 - val_acc: 0.8968\n",
            "Epoch 30/30\n",
            "16/16 [==============================] - ETA: 0s - loss: 0.0020 - acc: 0.9995\n",
            "Epoch 00030: val_loss did not improve from 0.08631\n",
            "16/16 [==============================] - 7s 435ms/step - loss: 0.0020 - acc: 0.9995 - val_loss: 0.2362 - val_acc: 0.8770\n"
          ],
          "name": "stdout"
        },
        {
          "output_type": "execute_result",
          "data": {
            "text/plain": [
              "<tensorflow.python.training.tracking.util.CheckpointLoadStatus at 0x7f962807cc18>"
            ]
          },
          "metadata": {
            "tags": []
          },
          "execution_count": 8
        }
      ]
    }
  ]
}