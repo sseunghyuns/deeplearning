{
  "nbformat": 4,
  "nbformat_minor": 0,
  "metadata": {
    "colab": {
      "name": "Untitled0.ipynb",
      "provenance": [],
      "authorship_tag": "ABX9TyOfUPqllqgr4yXrlr7Zo4Lx",
      "include_colab_link": true
    },
    "kernelspec": {
      "name": "python3",
      "display_name": "Python 3"
    },
    "accelerator": "GPU"
  },
  "cells": [
    {
      "cell_type": "markdown",
      "metadata": {
        "id": "view-in-github",
        "colab_type": "text"
      },
      "source": [
        "<a href=\"https://colab.research.google.com/github/sseunghyuns/deeplearning/blob/master/nlp_sarcasm.ipynb\" target=\"_parent\"><img src=\"https://colab.research.google.com/assets/colab-badge.svg\" alt=\"Open In Colab\"/></a>"
      ]
    },
    {
      "cell_type": "code",
      "metadata": {
        "id": "XZV85kJ_Dun_",
        "colab_type": "code",
        "colab": {}
      },
      "source": [
        "import json\n",
        "import tensorflow as tf\n",
        "import numpy as np\n",
        "import urllib\n",
        "from tensorflow.keras.preprocessing.text import Tokenizer\n",
        "from tensorflow.keras.preprocessing.sequence import pad_sequences\n",
        "from tensorflow.keras.callbacks import ModelCheckpoint\n",
        "from tensorflow.keras.models import Sequential\n",
        "from tensorflow.keras.layers import Dense, Flatten, Bidirectional, Embedding,LSTM\n",
        "\n",
        "url = 'https://storage.googleapis.com/download.tensorflow.org/data/sarcasm.json'\n",
        "urllib.request.urlretrieve(url, 'sarcasm.json')\n",
        "\n",
        "with open('sarcasm.json') as f:\n",
        "  data = json.load(f)\n",
        "\n",
        "# DO NOT CHANGE THIS CODE OR THE TESTS MAY NOT WORK\n",
        "vocab_size = 1000\n",
        "embedding_dim = 16\n",
        "max_length = 120\n",
        "trunc_type='post'\n",
        "padding_type='post'\n",
        "oov_tok = \"<OOV>\"\n",
        "training_size = 20000\n",
        "\n",
        "sentence =[]\n",
        "label =[]\n",
        "\n",
        "for d in data :\n",
        "  sentence.append(d['headline'])\n",
        "  label.append(d['is_sarcastic'])"
      ],
      "execution_count": 14,
      "outputs": []
    },
    {
      "cell_type": "code",
      "metadata": {
        "id": "lMp0cPcKHAOM",
        "colab_type": "code",
        "colab": {}
      },
      "source": [
        "# train / valid 나누기\n",
        "training_size = 20000\n",
        "\n",
        "train_sentence = sentence[:training_size]\n",
        "train_label = label[:training_size]\n",
        "\n",
        "valid_sentence = sentence[training_size:]\n",
        "valid_label = label[training_size:]"
      ],
      "execution_count": 15,
      "outputs": []
    },
    {
      "cell_type": "code",
      "metadata": {
        "id": "md-tY1GwHAax",
        "colab_type": "code",
        "colab": {}
      },
      "source": [
        "# 토큰화 step-1 : Tokenizer 정의\n",
        "vocab_size = 1000\n",
        "oov_tok = \"<OOV>\"\n",
        "\n",
        "\n",
        "tokenizer = Tokenizer(num_words = vocab_size,  # num_words =1000 개의 단어만 가져오겠다는 의미인지? \n",
        "                    oov_token = oov_tok)"
      ],
      "execution_count": 16,
      "outputs": []
    },
    {
      "cell_type": "code",
      "metadata": {
        "id": "QQmGkB4hHAiQ",
        "colab_type": "code",
        "colab": {}
      },
      "source": [
        "# 토큰화 step-2 : 학습시킬 문장에 대해 토큰화 진행\n",
        "tokenizer.fit_on_texts(train_sentence) # 단어 사전 만들기 \n",
        "\n",
        "train_sequence = tokenizer.texts_to_sequences(train_sentence) # 단어 사전으로 문장 수치화. 사전에 없으면 1.\n",
        "valid_sequence = tokenizer.texts_to_sequences(valid_sentence)"
      ],
      "execution_count": 17,
      "outputs": []
    },
    {
      "cell_type": "code",
      "metadata": {
        "id": "BzmTUB4_HAnQ",
        "colab_type": "code",
        "colab": {}
      },
      "source": [
        "# 토큰화 step-3 : Sequence 길이 맞춰주기\n",
        "max_length = 120 # 문장의 최대 길이\n",
        "trunc_type='post' # 문장이 기준보다 길 때 앞을 자를지, 뒤를 자를지.\n",
        "padding_type='post' #문장이 기준보다 짧을 때 앞을 채울지, 뒤를 채울지.\n",
        "\n",
        "train_padded = pad_sequences(train_sequence, \n",
        "          maxlen = max_length, \n",
        "          truncating=trunc_type,\n",
        "          padding=padding_type)\n",
        "\n",
        "valid_padded = pad_sequences(valid_sequence,\n",
        "                          padding=padding_type,\n",
        "                          truncating=trunc_type, \n",
        "                          maxlen=max_length)"
      ],
      "execution_count": 18,
      "outputs": []
    },
    {
      "cell_type": "code",
      "metadata": {
        "id": "MC7n_xaWHAsG",
        "colab_type": "code",
        "colab": {}
      },
      "source": [
        "# 토큰화 step-4 : label 값을 array로 변환\n",
        "train_label = np.array(train_label)\n",
        "valid_label = np.array(valid_label)"
      ],
      "execution_count": 19,
      "outputs": []
    },
    {
      "cell_type": "code",
      "metadata": {
        "id": "e8pi2O5xHAxR",
        "colab_type": "code",
        "colab": {}
      },
      "source": [
        "# 모델 선언\n",
        "model = Sequential([\n",
        "                    Embedding(vocab_size,\n",
        "                              embedding_dim,\n",
        "                              input_length = max_length),\n",
        "                    Bidirectional(LSTM(32)),\n",
        "                    Dense(24, activation = 'relu'),\n",
        "                    #Dense(16, activation = 'relu'),\n",
        "                    Dense(1, activation = 'sigmoid')\n",
        "])"
      ],
      "execution_count": 20,
      "outputs": []
    },
    {
      "cell_type": "code",
      "metadata": {
        "id": "6HAYoKAhHXDT",
        "colab_type": "code",
        "colab": {}
      },
      "source": [
        "# 모델 compile\n",
        "model.compile(optimizer = 'adam', loss = 'binary_crossentropy', metrics = ['acc'])"
      ],
      "execution_count": 21,
      "outputs": []
    },
    {
      "cell_type": "code",
      "metadata": {
        "id": "DEjmYuMTHXO7",
        "colab_type": "code",
        "colab": {}
      },
      "source": [
        "# 모델 checkpoint\n",
        "checkpath = 'ck.ckpt'\n",
        "checkpoint = ModelCheckpoint(filepath = checkpath,\n",
        "                              monitor='val_loss',\n",
        "                              save_best_only = True,\n",
        "                              save_weights_only = True,\n",
        "                              verbose= 1)"
      ],
      "execution_count": 22,
      "outputs": []
    },
    {
      "cell_type": "code",
      "metadata": {
        "id": "-DhreZWqHZXw",
        "colab_type": "code",
        "colab": {
          "base_uri": "https://localhost:8080/",
          "height": 1000
        },
        "outputId": "0e440fcc-2943-4e59-d721-8787a3b6b2e4"
      },
      "source": [
        "# 모델 학습\n",
        "model.fit(train_padded, train_label,\n",
        "          validation_data = (valid_padded, valid_label),\n",
        "          callbacks = [checkpoint],\n",
        "          epochs = 20)\n",
        "\n",
        "# 모델 load\n",
        "model.load_weights(checkpath)"
      ],
      "execution_count": 23,
      "outputs": [
        {
          "output_type": "stream",
          "text": [
            "Epoch 1/20\n",
            "625/625 [==============================] - ETA: 0s - loss: 0.4526 - acc: 0.7728\n",
            "Epoch 00001: val_loss improved from inf to 0.39376, saving model to ck.ckpt\n",
            "625/625 [==============================] - 37s 59ms/step - loss: 0.4526 - acc: 0.7728 - val_loss: 0.3938 - val_acc: 0.8207\n",
            "Epoch 2/20\n",
            "625/625 [==============================] - ETA: 0s - loss: 0.3574 - acc: 0.8353\n",
            "Epoch 00002: val_loss improved from 0.39376 to 0.37999, saving model to ck.ckpt\n",
            "625/625 [==============================] - 37s 59ms/step - loss: 0.3574 - acc: 0.8353 - val_loss: 0.3800 - val_acc: 0.8232\n",
            "Epoch 3/20\n",
            "624/625 [============================>.] - ETA: 0s - loss: 0.3383 - acc: 0.8473\n",
            "Epoch 00003: val_loss improved from 0.37999 to 0.37528, saving model to ck.ckpt\n",
            "625/625 [==============================] - 37s 59ms/step - loss: 0.3383 - acc: 0.8473 - val_loss: 0.3753 - val_acc: 0.8290\n",
            "Epoch 4/20\n",
            "625/625 [==============================] - ETA: 0s - loss: 0.3205 - acc: 0.8551\n",
            "Epoch 00004: val_loss improved from 0.37528 to 0.37489, saving model to ck.ckpt\n",
            "625/625 [==============================] - 37s 58ms/step - loss: 0.3205 - acc: 0.8551 - val_loss: 0.3749 - val_acc: 0.8319\n",
            "Epoch 5/20\n",
            "625/625 [==============================] - ETA: 0s - loss: 0.3087 - acc: 0.8620\n",
            "Epoch 00005: val_loss did not improve from 0.37489\n",
            "625/625 [==============================] - 36s 58ms/step - loss: 0.3087 - acc: 0.8620 - val_loss: 0.3879 - val_acc: 0.8240\n",
            "Epoch 6/20\n",
            "625/625 [==============================] - ETA: 0s - loss: 0.2989 - acc: 0.8680\n",
            "Epoch 00006: val_loss improved from 0.37489 to 0.37402, saving model to ck.ckpt\n",
            "625/625 [==============================] - 36s 58ms/step - loss: 0.2989 - acc: 0.8680 - val_loss: 0.3740 - val_acc: 0.8326\n",
            "Epoch 7/20\n",
            "625/625 [==============================] - ETA: 0s - loss: 0.2909 - acc: 0.8701\n",
            "Epoch 00007: val_loss did not improve from 0.37402\n",
            "625/625 [==============================] - 37s 59ms/step - loss: 0.2909 - acc: 0.8701 - val_loss: 0.3855 - val_acc: 0.8328\n",
            "Epoch 8/20\n",
            "624/625 [============================>.] - ETA: 0s - loss: 0.2841 - acc: 0.8743\n",
            "Epoch 00008: val_loss did not improve from 0.37402\n",
            "625/625 [==============================] - 36s 58ms/step - loss: 0.2841 - acc: 0.8744 - val_loss: 0.3879 - val_acc: 0.8296\n",
            "Epoch 9/20\n",
            "625/625 [==============================] - ETA: 0s - loss: 0.2764 - acc: 0.8791\n",
            "Epoch 00009: val_loss did not improve from 0.37402\n",
            "625/625 [==============================] - 36s 58ms/step - loss: 0.2764 - acc: 0.8791 - val_loss: 0.3929 - val_acc: 0.8299\n",
            "Epoch 10/20\n",
            "625/625 [==============================] - ETA: 0s - loss: 0.2677 - acc: 0.8838\n",
            "Epoch 00010: val_loss did not improve from 0.37402\n",
            "625/625 [==============================] - 36s 58ms/step - loss: 0.2677 - acc: 0.8838 - val_loss: 0.3940 - val_acc: 0.8302\n",
            "Epoch 11/20\n",
            "625/625 [==============================] - ETA: 0s - loss: 0.2629 - acc: 0.8866\n",
            "Epoch 00011: val_loss did not improve from 0.37402\n",
            "625/625 [==============================] - 36s 58ms/step - loss: 0.2629 - acc: 0.8866 - val_loss: 0.4017 - val_acc: 0.8265\n",
            "Epoch 12/20\n",
            "625/625 [==============================] - ETA: 0s - loss: 0.2551 - acc: 0.8902\n",
            "Epoch 00012: val_loss did not improve from 0.37402\n",
            "625/625 [==============================] - 36s 57ms/step - loss: 0.2551 - acc: 0.8902 - val_loss: 0.4055 - val_acc: 0.8265\n",
            "Epoch 13/20\n",
            "625/625 [==============================] - ETA: 0s - loss: 0.2477 - acc: 0.8945\n",
            "Epoch 00013: val_loss did not improve from 0.37402\n",
            "625/625 [==============================] - 37s 59ms/step - loss: 0.2477 - acc: 0.8945 - val_loss: 0.4205 - val_acc: 0.8214\n",
            "Epoch 14/20\n",
            "625/625 [==============================] - ETA: 0s - loss: 0.2399 - acc: 0.8965\n",
            "Epoch 00014: val_loss did not improve from 0.37402\n",
            "625/625 [==============================] - 37s 59ms/step - loss: 0.2399 - acc: 0.8965 - val_loss: 0.4375 - val_acc: 0.8240\n",
            "Epoch 15/20\n",
            "625/625 [==============================] - ETA: 0s - loss: 0.2301 - acc: 0.9029\n",
            "Epoch 00015: val_loss did not improve from 0.37402\n",
            "625/625 [==============================] - 37s 59ms/step - loss: 0.2301 - acc: 0.9029 - val_loss: 0.4454 - val_acc: 0.8211\n",
            "Epoch 16/20\n",
            "625/625 [==============================] - ETA: 0s - loss: 0.2229 - acc: 0.9049\n",
            "Epoch 00016: val_loss did not improve from 0.37402\n",
            "625/625 [==============================] - 37s 59ms/step - loss: 0.2229 - acc: 0.9049 - val_loss: 0.4491 - val_acc: 0.8168\n",
            "Epoch 17/20\n",
            "624/625 [============================>.] - ETA: 0s - loss: 0.2145 - acc: 0.9087\n",
            "Epoch 00017: val_loss did not improve from 0.37402\n",
            "625/625 [==============================] - 37s 59ms/step - loss: 0.2144 - acc: 0.9087 - val_loss: 0.4884 - val_acc: 0.8195\n",
            "Epoch 18/20\n",
            "625/625 [==============================] - ETA: 0s - loss: 0.2086 - acc: 0.9125\n",
            "Epoch 00018: val_loss did not improve from 0.37402\n",
            "625/625 [==============================] - 37s 59ms/step - loss: 0.2086 - acc: 0.9125 - val_loss: 0.4896 - val_acc: 0.8199\n",
            "Epoch 19/20\n",
            "625/625 [==============================] - ETA: 0s - loss: 0.1987 - acc: 0.9172\n",
            "Epoch 00019: val_loss did not improve from 0.37402\n",
            "625/625 [==============================] - 37s 59ms/step - loss: 0.1987 - acc: 0.9172 - val_loss: 0.5293 - val_acc: 0.8176\n",
            "Epoch 20/20\n",
            "625/625 [==============================] - ETA: 0s - loss: 0.1957 - acc: 0.9179\n",
            "Epoch 00020: val_loss did not improve from 0.37402\n",
            "625/625 [==============================] - 37s 59ms/step - loss: 0.1957 - acc: 0.9179 - val_loss: 0.5661 - val_acc: 0.8100\n"
          ],
          "name": "stdout"
        },
        {
          "output_type": "execute_result",
          "data": {
            "text/plain": [
              "<tensorflow.python.training.tracking.util.CheckpointLoadStatus at 0x7feb983be860>"
            ]
          },
          "metadata": {
            "tags": []
          },
          "execution_count": 23
        }
      ]
    }
  ]
}