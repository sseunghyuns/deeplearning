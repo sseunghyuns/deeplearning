{
  "nbformat": 4,
  "nbformat_minor": 0,
  "metadata": {
    "colab": {
      "name": "Untitled0.ipynb",
      "provenance": [],
      "authorship_tag": "ABX9TyNOQSmvT/SrkKjkNerArsNI",
      "include_colab_link": true
    },
    "kernelspec": {
      "name": "python3",
      "display_name": "Python 3"
    },
    "accelerator": "GPU"
  },
  "cells": [
    {
      "cell_type": "markdown",
      "metadata": {
        "id": "view-in-github",
        "colab_type": "text"
      },
      "source": [
        "<a href=\"https://colab.research.google.com/github/sseunghyuns/deeplearning/blob/master/mnist_data.ipynb\" target=\"_parent\"><img src=\"https://colab.research.google.com/assets/colab-badge.svg\" alt=\"Open In Colab\"/></a>"
      ]
    },
    {
      "cell_type": "code",
      "metadata": {
        "id": "XZV85kJ_Dun_",
        "colab_type": "code",
        "colab": {
          "base_uri": "https://localhost:8080/",
          "height": 1000
        },
        "outputId": "e93eae68-4a90-4601-e54a-a821ba4582b0"
      },
      "source": [
        "import tensorflow as tf\n",
        "from tensorflow.keras.layers import Flatten, Dense\n",
        "from tensorflow.keras.models import Sequential\n",
        "from tensorflow.keras.callbacks import ModelCheckpoint\n",
        "\n",
        "mnist = tf.keras.datasets.mnist\n",
        "\n",
        "# 모델 불러오기\n",
        "(x_train, y_train), (x_valid, y_valid) = mnist.load_data()\n",
        "\n",
        "# 모델 정규화\n",
        "x_train = x_train / 255.0\n",
        "x_valid = x_valid / 255.0\n",
        "\n",
        "# 모델 선언\n",
        "model = Sequential([\n",
        "                    Flatten(input_shape=(28,28)),\n",
        "                    Dense(512, activation='relu'),\n",
        "                    Dense(256, activation='relu'),\n",
        "                    Dense(128, activation='relu'),\n",
        "                    Dense(64, activation='relu'),\n",
        "                    Dense(32, activation='relu'),\n",
        "                    Dense(10,activation='softmax')\n",
        "])\n",
        "\n",
        "# 모델 체크포인트\n",
        "check_path = 'm_check.ckpt'\n",
        "check_point = ModelCheckpoint(\n",
        "    filepath = check_path,\n",
        "    save_weights_only = True,\n",
        "    save_best_only = True,\n",
        "    monitor = 'val_loss',\n",
        "    verbose=1\n",
        ")\n",
        "\n",
        "\n",
        "# 모델 컴파일\n",
        "model.compile(optimizer='adam', loss = 'sparse_categorical_crossentropy', metrics=['acc'])\n",
        "\n",
        "# 모델 학습\n",
        "model.fit(x_train, y_train,\n",
        "          validation_data = (x_valid, y_valid),\n",
        "          epochs = 20,\n",
        "          callbacks = [check_point])\n",
        "\n",
        "# 모델 load weights\n",
        "model.load_weights(check_path)"
      ],
      "execution_count": 6,
      "outputs": [
        {
          "output_type": "stream",
          "text": [
            "Downloading data from https://storage.googleapis.com/tensorflow/tf-keras-datasets/mnist.npz\n",
            "11493376/11490434 [==============================] - 0s 0us/step\n",
            "Epoch 1/20\n",
            "1865/1875 [============================>.] - ETA: 0s - loss: 0.2281 - acc: 0.9310\n",
            "Epoch 00001: val_loss improved from inf to 0.10270, saving model to m_check.ckpt\n",
            "1875/1875 [==============================] - 7s 4ms/step - loss: 0.2275 - acc: 0.9312 - val_loss: 0.1027 - val_acc: 0.9689\n",
            "Epoch 2/20\n",
            "1874/1875 [============================>.] - ETA: 0s - loss: 0.0995 - acc: 0.9705\n",
            "Epoch 00002: val_loss improved from 0.10270 to 0.09004, saving model to m_check.ckpt\n",
            "1875/1875 [==============================] - 7s 4ms/step - loss: 0.0995 - acc: 0.9705 - val_loss: 0.0900 - val_acc: 0.9738\n",
            "Epoch 3/20\n",
            "1865/1875 [============================>.] - ETA: 0s - loss: 0.0727 - acc: 0.9785\n",
            "Epoch 00003: val_loss improved from 0.09004 to 0.08123, saving model to m_check.ckpt\n",
            "1875/1875 [==============================] - 7s 4ms/step - loss: 0.0728 - acc: 0.9785 - val_loss: 0.0812 - val_acc: 0.9762\n",
            "Epoch 4/20\n",
            "1864/1875 [============================>.] - ETA: 0s - loss: 0.0557 - acc: 0.9833\n",
            "Epoch 00004: val_loss did not improve from 0.08123\n",
            "1875/1875 [==============================] - 7s 4ms/step - loss: 0.0557 - acc: 0.9833 - val_loss: 0.0894 - val_acc: 0.9753\n",
            "Epoch 5/20\n",
            "1868/1875 [============================>.] - ETA: 0s - loss: 0.0469 - acc: 0.9863\n",
            "Epoch 00005: val_loss did not improve from 0.08123\n",
            "1875/1875 [==============================] - 8s 4ms/step - loss: 0.0468 - acc: 0.9863 - val_loss: 0.0928 - val_acc: 0.9764\n",
            "Epoch 6/20\n",
            "1866/1875 [============================>.] - ETA: 0s - loss: 0.0379 - acc: 0.9890\n",
            "Epoch 00006: val_loss did not improve from 0.08123\n",
            "1875/1875 [==============================] - 7s 4ms/step - loss: 0.0379 - acc: 0.9890 - val_loss: 0.0939 - val_acc: 0.9775\n",
            "Epoch 7/20\n",
            "1861/1875 [============================>.] - ETA: 0s - loss: 0.0342 - acc: 0.9904\n",
            "Epoch 00007: val_loss did not improve from 0.08123\n",
            "1875/1875 [==============================] - 7s 4ms/step - loss: 0.0342 - acc: 0.9904 - val_loss: 0.0840 - val_acc: 0.9787\n",
            "Epoch 8/20\n",
            "1867/1875 [============================>.] - ETA: 0s - loss: 0.0315 - acc: 0.9909\n",
            "Epoch 00008: val_loss did not improve from 0.08123\n",
            "1875/1875 [==============================] - 7s 4ms/step - loss: 0.0315 - acc: 0.9909 - val_loss: 0.0854 - val_acc: 0.9808\n",
            "Epoch 9/20\n",
            "1863/1875 [============================>.] - ETA: 0s - loss: 0.0261 - acc: 0.9925\n",
            "Epoch 00009: val_loss did not improve from 0.08123\n",
            "1875/1875 [==============================] - 7s 4ms/step - loss: 0.0260 - acc: 0.9926 - val_loss: 0.0962 - val_acc: 0.9786\n",
            "Epoch 10/20\n",
            "1874/1875 [============================>.] - ETA: 0s - loss: 0.0235 - acc: 0.9932\n",
            "Epoch 00010: val_loss improved from 0.08123 to 0.08063, saving model to m_check.ckpt\n",
            "1875/1875 [==============================] - 7s 4ms/step - loss: 0.0235 - acc: 0.9933 - val_loss: 0.0806 - val_acc: 0.9825\n",
            "Epoch 11/20\n",
            "1869/1875 [============================>.] - ETA: 0s - loss: 0.0217 - acc: 0.9936\n",
            "Epoch 00011: val_loss did not improve from 0.08063\n",
            "1875/1875 [==============================] - 7s 4ms/step - loss: 0.0217 - acc: 0.9937 - val_loss: 0.1005 - val_acc: 0.9783\n",
            "Epoch 12/20\n",
            "1864/1875 [============================>.] - ETA: 0s - loss: 0.0201 - acc: 0.9945\n",
            "Epoch 00012: val_loss did not improve from 0.08063\n",
            "1875/1875 [==============================] - 7s 4ms/step - loss: 0.0200 - acc: 0.9945 - val_loss: 0.1016 - val_acc: 0.9787\n",
            "Epoch 13/20\n",
            "1867/1875 [============================>.] - ETA: 0s - loss: 0.0200 - acc: 0.9942\n",
            "Epoch 00013: val_loss did not improve from 0.08063\n",
            "1875/1875 [==============================] - 7s 4ms/step - loss: 0.0199 - acc: 0.9942 - val_loss: 0.0904 - val_acc: 0.9824\n",
            "Epoch 14/20\n",
            "1860/1875 [============================>.] - ETA: 0s - loss: 0.0190 - acc: 0.9946\n",
            "Epoch 00014: val_loss did not improve from 0.08063\n",
            "1875/1875 [==============================] - 7s 4ms/step - loss: 0.0190 - acc: 0.9946 - val_loss: 0.0881 - val_acc: 0.9825\n",
            "Epoch 15/20\n",
            "1867/1875 [============================>.] - ETA: 0s - loss: 0.0157 - acc: 0.9958\n",
            "Epoch 00015: val_loss did not improve from 0.08063\n",
            "1875/1875 [==============================] - 7s 4ms/step - loss: 0.0156 - acc: 0.9958 - val_loss: 0.1203 - val_acc: 0.9705\n",
            "Epoch 16/20\n",
            "1862/1875 [============================>.] - ETA: 0s - loss: 0.0136 - acc: 0.9962\n",
            "Epoch 00016: val_loss did not improve from 0.08063\n",
            "1875/1875 [==============================] - 7s 4ms/step - loss: 0.0135 - acc: 0.9962 - val_loss: 0.1107 - val_acc: 0.9802\n",
            "Epoch 17/20\n",
            "1869/1875 [============================>.] - ETA: 0s - loss: 0.0155 - acc: 0.9957\n",
            "Epoch 00017: val_loss did not improve from 0.08063\n",
            "1875/1875 [==============================] - 7s 4ms/step - loss: 0.0155 - acc: 0.9957 - val_loss: 0.0929 - val_acc: 0.9842\n",
            "Epoch 18/20\n",
            "1874/1875 [============================>.] - ETA: 0s - loss: 0.0130 - acc: 0.9964\n",
            "Epoch 00018: val_loss did not improve from 0.08063\n",
            "1875/1875 [==============================] - 7s 4ms/step - loss: 0.0130 - acc: 0.9964 - val_loss: 0.1369 - val_acc: 0.9796\n",
            "Epoch 19/20\n",
            "1871/1875 [============================>.] - ETA: 0s - loss: 0.0133 - acc: 0.9967\n",
            "Epoch 00019: val_loss did not improve from 0.08063\n",
            "1875/1875 [==============================] - 7s 4ms/step - loss: 0.0133 - acc: 0.9967 - val_loss: 0.1106 - val_acc: 0.9822\n",
            "Epoch 20/20\n",
            "1863/1875 [============================>.] - ETA: 0s - loss: 0.0117 - acc: 0.9968\n",
            "Epoch 00020: val_loss did not improve from 0.08063\n",
            "1875/1875 [==============================] - 7s 4ms/step - loss: 0.0116 - acc: 0.9968 - val_loss: 0.1407 - val_acc: 0.9770\n"
          ],
          "name": "stdout"
        },
        {
          "output_type": "execute_result",
          "data": {
            "text/plain": [
              "<tensorflow.python.training.tracking.util.CheckpointLoadStatus at 0x7feb9a30d400>"
            ]
          },
          "metadata": {
            "tags": []
          },
          "execution_count": 6
        }
      ]
    }
  ]
}